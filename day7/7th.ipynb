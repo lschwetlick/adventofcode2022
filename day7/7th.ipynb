{
  "cells": [
    {
      "cell_type": "markdown",
      "source": [
        "# solution 1"
      ],
      "metadata": {
        "nteract": {
          "transient": {
            "deleting": false
          }
        }
      }
    },
    {
      "cell_type": "code",
      "source": [
        "dirs = {\"/\":0}\n",
        "pathsofar = []\n",
        "with open(\"7th.txt\", \"r\") as file:\n",
        "    for i, line in enumerate(file):\n",
        "        parts = line.strip().split(\" \")\n",
        "        if parts[0]==\"$\":\n",
        "          if parts[1]==\"cd\":\n",
        "            if parts[2]==\"..\":\n",
        "              pathsofar.pop()\n",
        "            else:\n",
        "              pathsofar.append(parts[2])\n",
        "          if parts[1]==\"ls\":\n",
        "            ls = True\n",
        "        else:\n",
        "          #print(parts)\n",
        "          #print(dirs)\n",
        "          if parts[0] == \"dir\":\n",
        "            if parts[1] not in dirs:\n",
        "              dirs[\"-\".join(pathsofar)+\"-\"+parts[1]] = 0\n",
        "          else:\n",
        "            for d in range(1, len(pathsofar)+1):\n",
        "              #print(\"aa\",pathsofar, \"_\".join(pathsofar[0:d]))\n",
        "              name = \"-\".join(pathsofar[0:d])\n",
        "              \n",
        "              dirs[name]+=int(parts[0])\n",
        "        #print(pathsofar)\n",
        "dirs\n",
        "sum([i for i in dirs.values() if i <= 100000])"
      ],
      "outputs": [
        {
          "output_type": "execute_result",
          "execution_count": 81,
          "data": {
            "text/plain": "1307902"
          },
          "metadata": {}
        }
      ],
      "execution_count": 81,
      "metadata": {
        "collapsed": true,
        "jupyter": {
          "source_hidden": false,
          "outputs_hidden": false
        },
        "nteract": {
          "transient": {
            "deleting": false
          }
        },
        "execution": {
          "iopub.status.busy": "2022-12-08T09:53:20.871Z",
          "iopub.execute_input": "2022-12-08T09:53:20.874Z",
          "iopub.status.idle": "2022-12-08T09:53:20.882Z",
          "shell.execute_reply": "2022-12-08T09:53:20.885Z"
        }
      }
    },
    {
      "cell_type": "markdown",
      "source": [
        "# solution 2"
      ],
      "metadata": {
        "nteract": {
          "transient": {
            "deleting": false
          }
        }
      }
    },
    {
      "cell_type": "code",
      "source": [
        "availiable = 70000000\n",
        "needed = 30000000\n",
        "used_space = max(dirs.values())\n",
        "free_space = availiable - used_space \n",
        "to_free = needed-free_space\n",
        "print(used_space, free_space, to_free)"
      ],
      "outputs": [
        {
          "output_type": "stream",
          "name": "stdout",
          "text": [
            "47048086 22951914 7048086\n"
          ]
        }
      ],
      "execution_count": 83,
      "metadata": {
        "collapsed": true,
        "jupyter": {
          "source_hidden": false,
          "outputs_hidden": false
        },
        "nteract": {
          "transient": {
            "deleting": false
          }
        },
        "execution": {
          "iopub.status.busy": "2022-12-08T09:53:22.294Z",
          "iopub.execute_input": "2022-12-08T09:53:22.296Z",
          "iopub.status.idle": "2022-12-08T09:53:22.302Z",
          "shell.execute_reply": "2022-12-08T09:53:22.304Z"
        }
      }
    },
    {
      "cell_type": "code",
      "source": [
        "options=[]\n",
        "for d in dirs:\n",
        "  if dirs[d]>to_free:\n",
        "    options.append(dirs[d])\n",
        "min(options)\n",
        "    "
      ],
      "outputs": [
        {
          "output_type": "execute_result",
          "execution_count": 84,
          "data": {
            "text/plain": "7068748"
          },
          "metadata": {}
        }
      ],
      "execution_count": 84,
      "metadata": {
        "collapsed": true,
        "jupyter": {
          "source_hidden": false,
          "outputs_hidden": false
        },
        "nteract": {
          "transient": {
            "deleting": false
          }
        },
        "execution": {
          "iopub.status.busy": "2022-12-08T09:53:22.870Z",
          "iopub.execute_input": "2022-12-08T09:53:22.874Z",
          "iopub.status.idle": "2022-12-08T09:53:22.881Z",
          "shell.execute_reply": "2022-12-08T09:53:22.884Z"
        }
      }
    },
    {
      "cell_type": "code",
      "source": [],
      "outputs": [],
      "execution_count": null,
      "metadata": {
        "collapsed": true,
        "jupyter": {
          "source_hidden": false,
          "outputs_hidden": false
        },
        "nteract": {
          "transient": {
            "deleting": false
          }
        }
      }
    },
    {
      "cell_type": "code",
      "source": [],
      "outputs": [],
      "execution_count": null,
      "metadata": {
        "collapsed": true,
        "jupyter": {
          "source_hidden": false,
          "outputs_hidden": false
        },
        "nteract": {
          "transient": {
            "deleting": false
          }
        }
      }
    }
  ],
  "metadata": {
    "kernel_info": {
      "name": "sawenv"
    },
    "language_info": {
      "name": "python",
      "version": "3.10.3",
      "mimetype": "text/x-python",
      "codemirror_mode": {
        "name": "ipython",
        "version": 3
      },
      "pygments_lexer": "ipython3",
      "nbconvert_exporter": "python",
      "file_extension": ".py"
    },
    "kernelspec": {
      "argv": [
        "/Users/lisa/Documents/virtual_envs/sawenv/bin/python3",
        "-m",
        "ipykernel_launcher",
        "-f",
        "{connection_file}"
      ],
      "display_name": "sawenv",
      "language": "python",
      "metadata": {
        "debugger": true
      },
      "name": "sawenv"
    },
    "nteract": {
      "version": "0.28.0"
    }
  },
  "nbformat": 4,
  "nbformat_minor": 0
}