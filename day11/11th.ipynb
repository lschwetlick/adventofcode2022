{
  "cells": [
    {
      "cell_type": "code",
      "source": [
        "import numpy as np\n",
        "from matplotlib import pyplot as plt\n",
        "import matplotlib.animation as animation"
      ],
      "outputs": [],
      "execution_count": 7,
      "metadata": {
        "collapsed": true,
        "jupyter": {
          "source_hidden": false,
          "outputs_hidden": false
        },
        "nteract": {
          "transient": {
            "deleting": false
          }
        },
        "execution": {
          "iopub.status.busy": "2022-12-12T20:46:11.395Z",
          "iopub.execute_input": "2022-12-12T20:46:11.403Z",
          "iopub.status.idle": "2022-12-12T20:46:11.924Z",
          "shell.execute_reply": "2022-12-12T20:46:11.943Z"
        }
      }
    },
    {
      "cell_type": "code",
      "source": [
        "class monkey():\n",
        "  def __init__(self, items, expression, test, true_monkey, false_monkey):\n",
        "    self.items = items\n",
        "    self.expression = expression\n",
        "    self.test = test\n",
        "    self.true_monkey = true_monkey\n",
        "    self.false_monkey = false_monkey\n",
        "    self.n_inspect= 0\n",
        "    \n",
        "  def operation(self, old):\n",
        "    new = eval(self.expression)\n",
        "    return new\n",
        "  \n",
        "  def get_bored(self, old):\n",
        "    new = int(old/3)\n",
        "    return new\n",
        "  \n",
        "  def test_worry(self, item):\n",
        "    return (item % self.test) == 0\n",
        "  \n",
        "  def inspect_items(self):\n",
        "    \n",
        "    actions = []\n",
        "    for i in range(len(self.items)):\n",
        "      self.n_inspect += 1\n",
        "      self.items[i] = self.operation(self.items[i])\n",
        "      self.items[i] = self.get_bored(self.items[i])\n",
        "      if self.test_worry(self.items[i]):\n",
        "        actions.append((self.items[i], self.true_monkey))\n",
        "        #self.items.pop(i)\n",
        "      else:\n",
        "        actions.append((self.items[i], self.false_monkey))\n",
        "        #self.items.pop(i)\n",
        "    self.items=[]  \n",
        "    return actions\n",
        "        \n",
        "  def catch(self, item):\n",
        "    self.items.append(item)"
      ],
      "outputs": [],
      "execution_count": 101,
      "metadata": {
        "collapsed": true,
        "jupyter": {
          "source_hidden": false,
          "outputs_hidden": false
        },
        "nteract": {
          "transient": {
            "deleting": false
          }
        },
        "execution": {
          "iopub.status.busy": "2022-12-11T20:47:10.196Z",
          "iopub.execute_input": "2022-12-11T20:47:10.201Z",
          "iopub.status.idle": "2022-12-11T20:47:10.213Z",
          "shell.execute_reply": "2022-12-11T20:47:10.217Z"
        }
      }
    },
    {
      "cell_type": "code",
      "source": [
        "def play_round(monkey_pack):\n",
        "  for m in monkey_pack:\n",
        "    #print(monkey_pack[m].items)\n",
        "    throws = monkey_pack[m].inspect_items()\n",
        "    for t in throws:\n",
        "      monkey_pack[t[1]].catch(t[0])\n",
        "    #print(monkey_pack[m].items)\n",
        "    #print(actions)\n",
        "  return monkey_pack"
      ],
      "outputs": [],
      "execution_count": 102,
      "metadata": {
        "collapsed": true,
        "jupyter": {
          "source_hidden": false,
          "outputs_hidden": false
        },
        "nteract": {
          "transient": {
            "deleting": false
          }
        },
        "execution": {
          "iopub.status.busy": "2022-12-11T20:47:11.179Z",
          "iopub.execute_input": "2022-12-11T20:47:11.186Z",
          "iopub.status.idle": "2022-12-11T20:47:11.199Z",
          "shell.execute_reply": "2022-12-11T20:47:11.210Z"
        }
      }
    },
    {
      "cell_type": "code",
      "source": [
        "monkey_pack = {}\n",
        "start = 0 \n",
        "with open(\"11th.txt\", \"r\") as file:\n",
        "    for i, line in enumerate(file):\n",
        "      #l = line.strip()\n",
        "      if line[0:5] == \"Monke\":\n",
        "        start = 1\n",
        "        mnum = int(line.strip().split(\" \")[1].split(\":\")[0])\n",
        "      elif line == \"\\n\":\n",
        "        start = 0\n",
        "      elif start >= 1:\n",
        "        start += 1\n",
        "        l = line.strip().split(\":\")\n",
        "        if start == 2:\n",
        "          items = eval(\"[\"+l[1]+\"]\")\n",
        "        if start == 3:\n",
        "          exp = l[1].split(\"= \")[1]\n",
        "        if start == 4:\n",
        "          div = int(l[1].split(\"by \")[1])\n",
        "        if start == 5:\n",
        "          tm = int(l[1].split(\"monkey \")[1])\n",
        "        if start == 6:\n",
        "          fm = int(l[1].split(\"monkey \")[1])\n",
        "          m = monkey(items, exp, div, tm, fm)\n",
        "          monkey_pack[mnum] = m\n",
        "          #print(start, items, exp, div, tm, fm)\n",
        "      #print(start)\n",
        "monkey_pack"
      ],
      "outputs": [
        {
          "output_type": "execute_result",
          "execution_count": 104,
          "data": {
            "text/plain": "{0: <__main__.monkey at 0x1117cb070>,\n 1: <__main__.monkey at 0x1117c8a90>,\n 2: <__main__.monkey at 0x111773310>,\n 3: <__main__.monkey at 0x1117c95d0>,\n 4: <__main__.monkey at 0x111773d90>,\n 5: <__main__.monkey at 0x111773eb0>,\n 6: <__main__.monkey at 0x1117ca0e0>,\n 7: <__main__.monkey at 0x111773f10>}"
          },
          "metadata": {}
        }
      ],
      "execution_count": 104,
      "metadata": {
        "collapsed": true,
        "jupyter": {
          "source_hidden": false,
          "outputs_hidden": false
        },
        "nteract": {
          "transient": {
            "deleting": false
          }
        },
        "execution": {
          "iopub.status.busy": "2022-12-11T20:47:21.200Z",
          "iopub.execute_input": "2022-12-11T20:47:21.206Z",
          "iopub.status.idle": "2022-12-11T20:47:21.218Z",
          "shell.execute_reply": "2022-12-11T20:47:21.222Z"
        }
      }
    },
    {
      "cell_type": "code",
      "source": [
        "for i in range(20):\n",
        "  monkey_pack = play_round(monkey_pack)\n",
        "active_guys = []\n",
        "for m in monkey_pack:\n",
        "  print(\"m\", m, monkey_pack[m].items, monkey_pack[m].n_inspect)\n",
        "  active_guys.append(monkey_pack[m].n_inspect)\n",
        "active_guys.sort()\n",
        "print(active_guys)\n",
        "print(active_guys[-1]*active_guys[-2])"
      ],
      "outputs": [
        {
          "output_type": "stream",
          "name": "stdout",
          "text": [
            "m 0 [9, 9, 9, 9, 9, 26, 26, 26, 119219, 7] 208\n",
            "m 1 [11, 11, 11, 21, 21] 108\n",
            "m 2 [17, 17, 17, 17, 17] 60\n",
            "m 3 [] 103\n",
            "m 4 [3, 4, 4, 4, 4, 4, 4, 8394, 13, 13] 255\n",
            "m 5 [6, 6, 6, 33, 33, 33] 202\n",
            "m 6 [] 266\n",
            "m 7 [] 179\n",
            "[60, 103, 108, 179, 202, 208, 255, 266]\n",
            "67830\n"
          ]
        }
      ],
      "execution_count": 105,
      "metadata": {
        "collapsed": true,
        "jupyter": {
          "source_hidden": false,
          "outputs_hidden": false
        },
        "nteract": {
          "transient": {
            "deleting": false
          }
        },
        "execution": {
          "iopub.status.busy": "2022-12-11T20:47:24.308Z",
          "iopub.execute_input": "2022-12-11T20:47:24.315Z",
          "iopub.status.idle": "2022-12-11T20:47:24.327Z",
          "shell.execute_reply": "2022-12-11T20:47:24.332Z"
        }
      }
    },
    {
      "cell_type": "markdown",
      "source": [
        "# Solution 2"
      ],
      "metadata": {
        "nteract": {
          "transient": {
            "deleting": false
          }
        }
      }
    },
    {
      "cell_type": "code",
      "source": [
        "(6*1)%2"
      ],
      "outputs": [
        {
          "output_type": "execute_result",
          "execution_count": 2,
          "data": {
            "text/plain": "0"
          },
          "metadata": {}
        }
      ],
      "execution_count": 2,
      "metadata": {
        "collapsed": true,
        "jupyter": {
          "source_hidden": false,
          "outputs_hidden": false
        },
        "nteract": {
          "transient": {
            "deleting": false
          }
        },
        "execution": {
          "iopub.status.busy": "2022-12-11T22:22:17.828Z",
          "iopub.execute_input": "2022-12-11T22:22:17.853Z",
          "iopub.status.idle": "2022-12-11T22:22:17.891Z",
          "shell.execute_reply": "2022-12-11T22:22:17.897Z"
        }
      }
    },
    {
      "cell_type": "code",
      "source": [
        "monkey_pack[m].expression.split(\" \")[1]"
      ],
      "outputs": [
        {
          "output_type": "error",
          "ename": "NameError",
          "evalue": "name 'monkey_pack' is not defined",
          "traceback": [
            "\u001b[0;31m---------------------------------------------------------------------------\u001b[0m",
            "\u001b[0;31mNameError\u001b[0m                                 Traceback (most recent call last)",
            "Input \u001b[0;32mIn [3]\u001b[0m, in \u001b[0;36m<cell line: 1>\u001b[0;34m()\u001b[0m\n\u001b[0;32m----> 1\u001b[0m \u001b[43mmonkey_pack\u001b[49m[m]\u001b[38;5;241m.\u001b[39mexpression\u001b[38;5;241m.\u001b[39msplit(\u001b[38;5;124m\"\u001b[39m\u001b[38;5;124m \u001b[39m\u001b[38;5;124m\"\u001b[39m)[\u001b[38;5;241m1\u001b[39m]\n",
            "\u001b[0;31mNameError\u001b[0m: name 'monkey_pack' is not defined"
          ]
        }
      ],
      "execution_count": 3,
      "metadata": {
        "collapsed": true,
        "jupyter": {
          "source_hidden": false,
          "outputs_hidden": false
        },
        "nteract": {
          "transient": {
            "deleting": false
          }
        },
        "execution": {
          "iopub.status.busy": "2022-12-11T22:22:18.055Z",
          "iopub.execute_input": "2022-12-11T22:22:18.065Z",
          "iopub.status.idle": "2022-12-11T22:03:33.516Z",
          "shell.execute_reply": "2022-12-11T22:03:33.525Z"
        }
      }
    },
    {
      "cell_type": "code",
      "source": [
        "print([(7*7)%i for i in range(1,10)])\n",
        "print([(7)%i for i in range(1,10)])"
      ],
      "outputs": [],
      "execution_count": null,
      "metadata": {
        "collapsed": true,
        "jupyter": {
          "source_hidden": false,
          "outputs_hidden": false
        },
        "nteract": {
          "transient": {
            "deleting": false
          }
        },
        "execution": {
          "iopub.status.busy": "2022-12-11T22:16:12.820Z",
          "iopub.execute_input": "2022-12-11T22:16:12.828Z",
          "iopub.status.idle": "2022-12-11T22:16:12.843Z",
          "shell.execute_reply": "2022-12-11T22:16:12.850Z"
        }
      }
    },
    {
      "cell_type": "code",
      "source": [
        "\n",
        "class monkey():\n",
        "  def __init__(self, items, expression, test, true_monkey, false_monkey):\n",
        "    self.items = items\n",
        "    self.expression = expression\n",
        "    self.test = test\n",
        "    self.true_monkey = true_monkey\n",
        "    self.false_monkey = false_monkey\n",
        "    self.n_inspect= 0\n",
        "    self.lcm = 0\n",
        "\n",
        "  def get_bored(self, old):\n",
        "    new = old % self.lcm\n",
        "    return new\n",
        "    \n",
        "  def operation(self, old):\n",
        "    new = eval(self.expression)\n",
        "    return new\n",
        "  \n",
        "  def test_worry(self, item):\n",
        "    return (item % self.test) == 0\n",
        "  \n",
        "  def inspect_items(self):\n",
        "    actions = []\n",
        "    for i in range(len(self.items)):\n",
        "      self.n_inspect += 1\n",
        "      self.items[i] = self.operation(self.items[i])\n",
        "      self.items[i] = self.get_bored(self.items[i])\n",
        "      if self.test_worry(self.items[i]):\n",
        "        actions.append((self.items[i], self.true_monkey))\n",
        "        #self.items.pop(i)\n",
        "      else:\n",
        "        actions.append((self.items[i], self.false_monkey))\n",
        "        #self.items.pop(i)\n",
        "    self.items=[]  \n",
        "    return actions\n",
        "\n",
        "  def inspect_items_and_time(self):\n",
        "    actions = []\n",
        "    for i in range(len(self.items)):\n",
        "      self.n_inspect += 1\n",
        "      t1 = datetime.now()\n",
        "      self.items[i] = self.operation(self.items[i])\n",
        "      t2 = datetime.now()\n",
        "      print(\"self.operation\", t2- t1)\n",
        "      t1 = datetime.now()\n",
        "      if self.test_worry(self.items[i]):\n",
        "        actions.append((self.items[i], self.true_monkey))\n",
        "        #self.items.pop(i)\n",
        "      else:\n",
        "        actions.append((self.items[i], self.false_monkey))\n",
        "        #self.items.pop(i)\n",
        "      t2 = datetime.now()\n",
        "      print(\"self.test\", t2- t1)\n",
        "    self.items=[]  \n",
        "    return actions\n",
        "  \n",
        "  \n",
        "  def catch(self, item):\n",
        "    self.items.append(item)"
      ],
      "outputs": [],
      "execution_count": 22,
      "metadata": {
        "collapsed": true,
        "jupyter": {
          "source_hidden": false,
          "outputs_hidden": false
        },
        "nteract": {
          "transient": {
            "deleting": false
          }
        },
        "execution": {
          "iopub.status.busy": "2022-12-12T20:48:15.802Z",
          "iopub.execute_input": "2022-12-12T20:48:15.809Z",
          "iopub.status.idle": "2022-12-12T20:48:15.819Z",
          "shell.execute_reply": "2022-12-12T20:48:15.828Z"
        }
      }
    },
    {
      "cell_type": "code",
      "source": [
        "monkey_pack = {}\n",
        "start = 0 \n",
        "lcm_l = []\n",
        "with open(\"11th.txt\", \"r\") as file:\n",
        "    for i, line in enumerate(file):\n",
        "      #l = line.strip()\n",
        "      if line[0:5] == \"Monke\":\n",
        "        start = 1\n",
        "        mnum = int(line.strip().split(\" \")[1].split(\":\")[0])\n",
        "      elif line == \"\\n\":\n",
        "        start = 0\n",
        "      elif start >= 1:\n",
        "        start += 1\n",
        "        l = line.strip().split(\":\")\n",
        "        if start == 2:\n",
        "          items = eval(\"[\"+l[1]+\"]\")\n",
        "        if start == 3:\n",
        "          exp = l[1].split(\"= \")[1]\n",
        "        if start == 4:\n",
        "          div = int(l[1].split(\"by \")[1])\n",
        "          lcm_l.append(div)\n",
        "        if start == 5:\n",
        "          tm = int(l[1].split(\"monkey \")[1])\n",
        "        if start == 6:\n",
        "          fm = int(l[1].split(\"monkey \")[1])\n",
        "          m = monkey(items, exp, div, tm, fm)\n",
        "          monkey_pack[mnum] = m\n",
        "          #print(start, items, exp, div, tm, fm)\n",
        "      #print(start)\n",
        "monkey_pack"
      ],
      "outputs": [
        {
          "output_type": "execute_result",
          "execution_count": 27,
          "data": {
            "text/plain": "{0: <__main__.monkey at 0x10eb66d10>,\n 1: <__main__.monkey at 0x10e864a00>,\n 2: <__main__.monkey at 0x10eb82470>,\n 3: <__main__.monkey at 0x10e8af070>,\n 4: <__main__.monkey at 0x10eb821d0>,\n 5: <__main__.monkey at 0x10ea57f10>,\n 6: <__main__.monkey at 0x10eb803d0>,\n 7: <__main__.monkey at 0x10ea57f70>}"
          },
          "metadata": {}
        }
      ],
      "execution_count": 27,
      "metadata": {
        "collapsed": true,
        "jupyter": {
          "source_hidden": false,
          "outputs_hidden": false
        },
        "nteract": {
          "transient": {
            "deleting": false
          }
        },
        "execution": {
          "iopub.status.busy": "2022-12-12T20:48:27.400Z",
          "iopub.execute_input": "2022-12-12T20:48:27.406Z",
          "iopub.status.idle": "2022-12-12T20:48:27.427Z",
          "shell.execute_reply": "2022-12-12T20:48:27.433Z"
        }
      }
    },
    {
      "cell_type": "code",
      "source": [
        "lcm_l"
      ],
      "outputs": [
        {
          "output_type": "execute_result",
          "execution_count": 28,
          "data": {
            "text/plain": "[3, 11, 7, 2, 19, 5, 17, 13]"
          },
          "metadata": {}
        }
      ],
      "execution_count": 28,
      "metadata": {
        "collapsed": true,
        "jupyter": {
          "source_hidden": false,
          "outputs_hidden": false
        },
        "nteract": {
          "transient": {
            "deleting": false
          }
        },
        "execution": {
          "iopub.status.busy": "2022-12-12T20:48:28.912Z",
          "iopub.execute_input": "2022-12-12T20:48:28.924Z",
          "iopub.status.idle": "2022-12-12T20:48:28.942Z",
          "shell.execute_reply": "2022-12-12T20:48:28.948Z"
        }
      }
    },
    {
      "cell_type": "code",
      "source": [
        "for m in monkey_pack:\n",
        "  monkey_pack[m].lcm = np.prod(lcm_l)"
      ],
      "outputs": [],
      "execution_count": 29,
      "metadata": {
        "collapsed": true,
        "jupyter": {
          "source_hidden": false,
          "outputs_hidden": false
        },
        "nteract": {
          "transient": {
            "deleting": false
          }
        },
        "execution": {
          "iopub.status.busy": "2022-12-12T20:48:29.908Z",
          "iopub.execute_input": "2022-12-12T20:48:29.915Z",
          "iopub.status.idle": "2022-12-12T20:48:29.932Z",
          "shell.execute_reply": "2022-12-12T20:48:29.938Z"
        }
      }
    },
    {
      "cell_type": "code",
      "source": [
        "for i in range(10000):\n",
        "  monkey_pack = play_round(monkey_pack)\n",
        "active_guys = []\n",
        "for m in monkey_pack:\n",
        "  print(\"m\", m, monkey_pack[m].items, monkey_pack[m].n_inspect)\n",
        "  active_guys.append(monkey_pack[m].n_inspect)\n",
        "active_guys.sort()\n",
        "print(active_guys)\n",
        "print(active_guys[-1]*active_guys[-2])"
      ],
      "outputs": [
        {
          "output_type": "stream",
          "name": "stdout",
          "text": [
            "m 0 [3255778, 4300003, 4578463, 3139753, 262333, 507949, 507949, 2575693, 6932640, 5616687, 4874756, 8773196] 120951\n",
            "m 1 [5822359, 518053, 518053] 16092\n",
            "m 2 [3575287] 6543\n",
            "m 3 [6036082] 28995\n",
            "m 4 [8008871, 7776821, 2068391, 8844251, 1922021, 1922021, 8563709, 30041] 126542\n",
            "m 5 [165574, 3599914, 4249654, 6662974, 6201016, 6201016, 1922014, 1040224, 8865664, 3137956, 736655] 119627\n",
            "m 6 [] 120399\n",
            "m 7 [] 105570\n",
            "[6543, 16092, 28995, 105570, 119627, 120399, 120951, 126542]\n",
            "15305381442\n"
          ]
        }
      ],
      "execution_count": 30,
      "metadata": {
        "collapsed": true,
        "jupyter": {
          "source_hidden": false,
          "outputs_hidden": false
        },
        "nteract": {
          "transient": {
            "deleting": false
          }
        },
        "execution": {
          "iopub.status.busy": "2022-12-12T20:48:32.411Z",
          "iopub.execute_input": "2022-12-12T20:48:32.418Z",
          "iopub.status.idle": "2022-12-12T20:48:36.930Z",
          "shell.execute_reply": "2022-12-12T20:48:36.954Z"
        }
      }
    },
    {
      "cell_type": "code",
      "source": [
        "def play_round(monkey_pack):\n",
        "  for m in monkey_pack:\n",
        "    #print(monkey_pack[m].items)\n",
        "    throws = monkey_pack[m].inspect_items()\n",
        "    \n",
        "    for t in throws:\n",
        "      monkey_pack[t[1]].catch(t[0])\n",
        "    #print(monkey_pack[m].items)\n",
        "    #print(actions)\n",
        "  return monkey_pack"
      ],
      "outputs": [],
      "execution_count": 10,
      "metadata": {
        "collapsed": true,
        "jupyter": {
          "source_hidden": false,
          "outputs_hidden": false
        },
        "nteract": {
          "transient": {
            "deleting": false
          }
        },
        "execution": {
          "iopub.status.busy": "2022-12-12T20:46:26.726Z",
          "iopub.execute_input": "2022-12-12T20:46:26.733Z",
          "iopub.status.idle": "2022-12-12T20:46:26.750Z",
          "shell.execute_reply": "2022-12-12T20:46:26.757Z"
        }
      }
    },
    {
      "cell_type": "code",
      "source": [
        "from datetime import datetime"
      ],
      "outputs": [],
      "execution_count": 197,
      "metadata": {
        "collapsed": true,
        "jupyter": {
          "source_hidden": false,
          "outputs_hidden": false
        },
        "nteract": {
          "transient": {
            "deleting": false
          }
        },
        "execution": {
          "iopub.status.busy": "2022-12-11T22:06:24.429Z",
          "iopub.execute_input": "2022-12-11T22:06:24.439Z",
          "iopub.status.idle": "2022-12-11T22:06:24.449Z",
          "shell.execute_reply": "2022-12-11T22:06:24.456Z"
        }
      }
    },
    {
      "cell_type": "code",
      "source": [
        "def play_round_t(monkey_pack):\n",
        "  for m in monkey_pack:\n",
        "    #print(monkey_pack[m].items)\n",
        "    throws = monkey_pack[m].inspect_items_and_time()\n",
        "    t1 = datetime.now()\n",
        "    for t in throws:\n",
        "      monkey_pack[t[1]].catch(t[0])\n",
        "    t2 = datetime.now()\n",
        "    print(\"throws\", t2- t1)\n",
        "    #print(monkey_pack[m].items)\n",
        "    #print(actions)\n",
        "  return monkey_pack"
      ],
      "outputs": [],
      "execution_count": 198,
      "metadata": {
        "collapsed": true,
        "jupyter": {
          "source_hidden": false,
          "outputs_hidden": false
        },
        "nteract": {
          "transient": {
            "deleting": false
          }
        },
        "execution": {
          "iopub.status.busy": "2022-12-11T22:06:24.951Z",
          "iopub.execute_input": "2022-12-11T22:06:24.958Z",
          "iopub.status.idle": "2022-12-11T22:06:24.970Z",
          "shell.execute_reply": "2022-12-11T22:06:24.976Z"
        }
      }
    },
    {
      "cell_type": "code",
      "source": [
        "a = 0"
      ],
      "outputs": [],
      "execution_count": 146,
      "metadata": {
        "collapsed": true,
        "jupyter": {
          "source_hidden": false,
          "outputs_hidden": false
        },
        "nteract": {
          "transient": {
            "deleting": false
          }
        },
        "execution": {
          "iopub.status.busy": "2022-12-11T21:58:44.898Z",
          "iopub.execute_input": "2022-12-11T21:58:44.906Z",
          "iopub.status.idle": "2022-12-11T21:58:44.917Z",
          "shell.execute_reply": "2022-12-11T21:58:44.923Z"
        }
      }
    },
    {
      "cell_type": "code",
      "source": [
        "(t2-t1).total_seconds()"
      ],
      "outputs": [
        {
          "output_type": "execute_result",
          "execution_count": 147,
          "data": {
            "text/plain": "-2e-06"
          },
          "metadata": {}
        }
      ],
      "execution_count": 147,
      "metadata": {
        "collapsed": true,
        "jupyter": {
          "source_hidden": false,
          "outputs_hidden": false
        },
        "nteract": {
          "transient": {
            "deleting": false
          }
        },
        "execution": {
          "iopub.status.busy": "2022-12-11T21:58:45.336Z",
          "iopub.execute_input": "2022-12-11T21:58:45.347Z",
          "iopub.status.idle": "2022-12-11T21:58:45.367Z",
          "shell.execute_reply": "2022-12-11T21:58:45.375Z"
        }
      }
    },
    {
      "cell_type": "code",
      "source": [
        "times = []\n",
        "for i in range(685):\n",
        "  a += 1\n",
        "  t1 = datetime.now()\n",
        "  monkey_pack = play_round(monkey_pack)\n",
        "  t2 = datetime.now()\n",
        "  times.append((t2-t1).total_seconds())\n",
        "\n",
        "#t1 = datetime.now()\n",
        "#monkey_pack = play_round_t(monkey_pack)\n",
        "#t2 = datetime.now()\n",
        "#times.append((t2-t1).total_seconds())\n"
      ],
      "outputs": [],
      "execution_count": 148,
      "metadata": {
        "collapsed": true,
        "jupyter": {
          "source_hidden": false,
          "outputs_hidden": false
        },
        "nteract": {
          "transient": {
            "deleting": false
          }
        },
        "execution": {
          "iopub.status.busy": "2022-12-11T21:58:47.056Z",
          "iopub.execute_input": "2022-12-11T21:58:47.079Z",
          "iopub.status.idle": "2022-12-11T21:58:47.137Z",
          "shell.execute_reply": "2022-12-11T21:58:47.144Z"
        }
      }
    },
    {
      "cell_type": "code",
      "source": [],
      "outputs": [],
      "execution_count": null,
      "metadata": {
        "collapsed": true,
        "jupyter": {
          "source_hidden": false,
          "outputs_hidden": false
        },
        "nteract": {
          "transient": {
            "deleting": false
          }
        }
      }
    },
    {
      "cell_type": "code",
      "source": [],
      "outputs": [],
      "execution_count": null,
      "metadata": {
        "collapsed": true,
        "jupyter": {
          "source_hidden": false,
          "outputs_hidden": false
        },
        "nteract": {
          "transient": {
            "deleting": false
          }
        }
      }
    },
    {
      "cell_type": "code",
      "source": [
        "m = 0\n",
        "len(monkey_pack[m].items)"
      ],
      "outputs": [
        {
          "output_type": "execute_result",
          "execution_count": 120,
          "data": {
            "text/plain": "5"
          },
          "metadata": {}
        }
      ],
      "execution_count": 120,
      "metadata": {
        "collapsed": true,
        "jupyter": {
          "source_hidden": false,
          "outputs_hidden": false
        },
        "nteract": {
          "transient": {
            "deleting": false
          }
        },
        "execution": {
          "iopub.status.busy": "2022-12-11T21:45:12.669Z",
          "iopub.execute_input": "2022-12-11T21:45:12.675Z",
          "iopub.status.idle": "2022-12-11T21:45:12.687Z",
          "shell.execute_reply": "2022-12-11T21:45:12.892Z"
        }
      }
    },
    {
      "cell_type": "code",
      "source": [
        "monkey_pack[m].items[0]>1"
      ],
      "outputs": [
        {
          "output_type": "execute_result",
          "execution_count": 119,
          "data": {
            "text/plain": "True"
          },
          "metadata": {}
        }
      ],
      "execution_count": 119,
      "metadata": {
        "collapsed": true,
        "jupyter": {
          "source_hidden": false,
          "outputs_hidden": false
        },
        "nteract": {
          "transient": {
            "deleting": false
          }
        },
        "execution": {
          "iopub.status.busy": "2022-12-11T21:45:12.629Z",
          "iopub.execute_input": "2022-12-11T21:45:12.638Z",
          "iopub.status.idle": "2022-12-11T21:45:12.660Z",
          "shell.execute_reply": "2022-12-11T21:45:12.887Z"
        }
      }
    },
    {
      "cell_type": "code",
      "source": [
        "aaa = str(monkey_pack[m].items[0])"
      ],
      "outputs": [],
      "execution_count": 121,
      "metadata": {
        "collapsed": true,
        "jupyter": {
          "source_hidden": false,
          "outputs_hidden": false
        },
        "nteract": {
          "transient": {
            "deleting": false
          }
        },
        "execution": {
          "iopub.status.busy": "2022-12-11T21:46:07.013Z",
          "iopub.execute_input": "2022-12-11T21:46:07.022Z",
          "iopub.status.idle": "2022-12-11T21:46:07.039Z",
          "shell.execute_reply": "2022-12-11T21:46:07.110Z"
        }
      }
    },
    {
      "cell_type": "code",
      "source": [
        "aaa"
      ],
      "outputs": [
        {
          "output_type": "execute_result",
          "execution_count": 124,
          "data": {
            "text/plain": "'4'"
          },
          "metadata": {}
        }
      ],
      "execution_count": 124,
      "metadata": {
        "collapsed": true,
        "jupyter": {
          "source_hidden": false,
          "outputs_hidden": false
        },
        "nteract": {
          "transient": {
            "deleting": false
          }
        },
        "execution": {
          "iopub.status.busy": "2022-12-11T21:46:22.705Z",
          "iopub.execute_input": "2022-12-11T21:46:22.718Z",
          "iopub.status.idle": "2022-12-11T21:46:22.735Z",
          "shell.execute_reply": "2022-12-11T21:46:22.744Z"
        }
      }
    },
    {
      "cell_type": "code",
      "source": [
        "len(aaa)"
      ],
      "outputs": [
        {
          "output_type": "execute_result",
          "execution_count": 123,
          "data": {
            "text/plain": "1178255"
          },
          "metadata": {}
        }
      ],
      "execution_count": 123,
      "metadata": {
        "collapsed": true,
        "jupyter": {
          "source_hidden": false,
          "outputs_hidden": false
        },
        "nteract": {
          "transient": {
            "deleting": false
          }
        },
        "execution": {
          "iopub.status.busy": "2022-12-11T21:46:07.062Z",
          "iopub.execute_input": "2022-12-11T21:46:07.071Z",
          "iopub.status.idle": "2022-12-11T21:46:07.089Z",
          "shell.execute_reply": "2022-12-11T21:46:07.115Z"
        }
      }
    },
    {
      "cell_type": "code",
      "source": [
        "  for m in monkey_pack:\n",
        "    #print(monkey_pack[m].items)\n",
        "    throws = monkey_pack[m].inspect_items_and_time()\n",
        "    t1 = datetime.now()\n",
        "    for t in throws:\n",
        "      monkey_pack[t[1]].catch(t[0])\n",
        "    t2 = datetime.now()\n",
        "    print(\"throws\", t2- t1)"
      ],
      "outputs": [],
      "execution_count": null,
      "metadata": {
        "collapsed": true,
        "jupyter": {
          "source_hidden": false,
          "outputs_hidden": false
        },
        "nteract": {
          "transient": {
            "deleting": false
          }
        }
      }
    },
    {
      "cell_type": "code",
      "source": [],
      "outputs": [],
      "execution_count": null,
      "metadata": {
        "collapsed": true,
        "jupyter": {
          "source_hidden": false,
          "outputs_hidden": false
        },
        "nteract": {
          "transient": {
            "deleting": false
          }
        }
      }
    },
    {
      "cell_type": "code",
      "source": [
        "times[686]"
      ],
      "outputs": [
        {
          "output_type": "error",
          "ename": "IndexError",
          "evalue": "list index out of range",
          "traceback": [
            "\u001b[0;31m---------------------------------------------------------------------------\u001b[0m",
            "\u001b[0;31mIndexError\u001b[0m                                Traceback (most recent call last)",
            "Input \u001b[0;32mIn [82]\u001b[0m, in \u001b[0;36m<cell line: 1>\u001b[0;34m()\u001b[0m\n\u001b[0;32m----> 1\u001b[0m \u001b[43mtimes\u001b[49m\u001b[43m[\u001b[49m\u001b[38;5;241;43m686\u001b[39;49m\u001b[43m]\u001b[49m\n",
            "\u001b[0;31mIndexError\u001b[0m: list index out of range"
          ]
        }
      ],
      "execution_count": 82,
      "metadata": {
        "collapsed": true,
        "jupyter": {
          "source_hidden": false,
          "outputs_hidden": false
        },
        "nteract": {
          "transient": {
            "deleting": false
          }
        },
        "execution": {
          "iopub.status.busy": "2022-12-11T21:28:24.188Z",
          "iopub.execute_input": "2022-12-11T21:28:24.201Z",
          "iopub.status.idle": "2022-12-11T21:28:20.118Z",
          "shell.execute_reply": "2022-12-11T21:28:20.130Z"
        }
      }
    },
    {
      "cell_type": "code",
      "source": [
        "plt.plot(times[680:])"
      ],
      "outputs": [
        {
          "output_type": "execute_result",
          "execution_count": 80,
          "data": {
            "text/plain": "[<matplotlib.lines.Line2D at 0x132fcaad0>]"
          },
          "metadata": {}
        },
        {
          "output_type": "display_data",
          "data": {
            "text/plain": "<Figure size 432x288 with 1 Axes>",
            "image/png": "[encoded data removed]"
          },
          "metadata": {
            "needs_background": "light"
          }
        }
      ],
      "execution_count": 80,
      "metadata": {
        "collapsed": true,
        "jupyter": {
          "source_hidden": false,
          "outputs_hidden": false
        },
        "nteract": {
          "transient": {
            "deleting": false
          }
        },
        "execution": {
          "iopub.status.busy": "2022-12-11T21:28:16.033Z",
          "iopub.execute_input": "2022-12-11T21:28:16.041Z",
          "iopub.status.idle": "2022-12-11T21:28:16.116Z",
          "shell.execute_reply": "2022-12-11T21:28:16.184Z"
        }
      }
    },
    {
      "cell_type": "code",
      "source": [
        "monkey_pack"
      ],
      "outputs": [
        {
          "output_type": "execute_result",
          "execution_count": 9,
          "data": {
            "text/plain": "{0: <__main__.monkey at 0x10f020e80>,\n 1: <__main__.monkey at 0x10f023bb0>,\n 2: <__main__.monkey at 0x10f023ac0>,\n 3: <__main__.monkey at 0x10f023b20>}"
          },
          "metadata": {}
        }
      ],
      "execution_count": 9,
      "metadata": {
        "collapsed": true,
        "jupyter": {
          "source_hidden": false,
          "outputs_hidden": false
        },
        "nteract": {
          "transient": {
            "deleting": false
          }
        },
        "execution": {
          "iopub.status.busy": "2022-12-11T21:04:39.175Z",
          "iopub.execute_input": "2022-12-11T21:04:39.183Z",
          "iopub.status.idle": "2022-12-11T21:04:39.205Z",
          "shell.execute_reply": "2022-12-11T21:04:39.217Z"
        }
      }
    },
    {
      "cell_type": "code",
      "source": [
        "for m in monkey_pack:\n",
        "  print(\"m\", m, monkey_pack[m].items, monkey_pack[m].n_inspect)"
      ],
      "outputs": [
        {
          "output_type": "stream",
          "name": "stdout",
          "text": [
            "m 0 [3234458218697420724264379222235508184576415261503676097228179117573169921920160408625797982966050332412374274613728044693468762649037425623773572058950701247818922767947698157473415063444507100287354250287930060728763215139019798803134209673320376567134360415805509081249329487591543925505464935059930017079956841618303481165236894907824637586675085493998087338, 19010305820623524976587817623615570176776697393806378950786468142876959675800765262589262785820211652569311096386094055718390137993705817909839632541919721307590048170840180600120352575167442, 52101332505875765640994157315015170444087996992887004100058971270425396090546009826853520314585145238112200031342931284408072394561723118825941727719609128354768151949102375026194184668588263432662411973667249527768751377885093333727844653190997022417805200930768128924172913823446426304404634721409205664163706493974150, 20563138864604001035670859111508254613272796591962634625676493637110923000131833672830547780418796403213104981213674046221843692712936007756] 615\n",
            "m 1 [5234309056253569566759169699031224440200024865927779958451249721117261024150688486595105724793290797113563508437711747179994719247295479675739683152456218594424022173739490869313, 1847031547338206726480034204678119581674615483140963947944976518982409077477850228110734890713752950795634457713232193444217320585647253845261241382961000213022726400363450272835272087770615143739105630203253363, 216360057158367475889029358484374170116143815115245275202815247449699742797804892762938223434094805742299956064601963932617366291852920767661680271120693, 1485299224947438288671037011037046064496765945744125360591196788606532496045454643745711538119105277968521048116646431305233267240505585648595062191825686747533487373502114579143529096149615984621054184064344261355728603984596297652165333, 2000237047079792380699730651569306922118321347309277366554469701720451466512859003923036704724600845257924197695400525030031804104153120362486932125773842434822840799456860832036327107743679360659735572627315357898791859248202443968694338091455062174386271778769664789526975637957562428183072779, 349113182130766380848275509714525578430219390845066465960326193067060403904334198684720001042449235925336730674607583994378102616930921313816208716511414177961025224748164085065351319781820291129507022467742019247124135175188011334718186917834745150422025580349] 581\n",
            "m 2 [] 28\n",
            "m 3 [] 617\n"
          ]
        }
      ],
      "execution_count": 10,
      "metadata": {
        "collapsed": true,
        "jupyter": {
          "source_hidden": false,
          "outputs_hidden": false
        },
        "nteract": {
          "transient": {
            "deleting": false
          }
        },
        "execution": {
          "iopub.status.busy": "2022-12-11T21:04:40.631Z",
          "iopub.execute_input": "2022-12-11T21:04:40.638Z",
          "iopub.status.idle": "2022-12-11T21:04:40.652Z",
          "shell.execute_reply": "2022-12-11T21:04:40.658Z"
        }
      }
    },
    {
      "cell_type": "code",
      "source": [
        "%%timeit\n",
        "old = 10\n",
        "eval(\"old * 5\")"
      ],
      "outputs": [
        {
          "output_type": "stream",
          "name": "stdout",
          "text": [
            "5.02 µs ± 60.1 ns per loop (mean ± std. dev. of 7 runs, 100,000 loops each)\n"
          ]
        }
      ],
      "execution_count": 12,
      "metadata": {
        "collapsed": true,
        "jupyter": {
          "source_hidden": false,
          "outputs_hidden": false
        },
        "nteract": {
          "transient": {
            "deleting": false
          }
        },
        "execution": {
          "iopub.status.busy": "2022-12-11T21:08:21.058Z",
          "iopub.execute_input": "2022-12-11T21:08:21.083Z",
          "iopub.status.idle": "2022-12-11T21:08:25.146Z",
          "shell.execute_reply": "2022-12-11T21:08:25.172Z"
        }
      }
    },
    {
      "cell_type": "code",
      "source": [
        "%%timeit\n",
        "old = 1847031547338206726480034204678119581674615483140963947944976518982409077477850228110734890713752950795634457713232193444217320585647253845261241382961000213022726400363450272835272087770615143739105630203253363\n",
        "eval(\"old * 5\")"
      ],
      "outputs": [
        {
          "output_type": "stream",
          "name": "stdout",
          "text": [
            "5.22 µs ± 41.4 ns per loop (mean ± std. dev. of 7 runs, 100,000 loops each)\n"
          ]
        }
      ],
      "execution_count": 13,
      "metadata": {
        "collapsed": true,
        "jupyter": {
          "source_hidden": false,
          "outputs_hidden": false
        },
        "nteract": {
          "transient": {
            "deleting": false
          }
        },
        "execution": {
          "iopub.status.busy": "2022-12-11T21:08:39.495Z",
          "iopub.execute_input": "2022-12-11T21:08:39.546Z",
          "iopub.status.idle": "2022-12-11T21:08:43.755Z",
          "shell.execute_reply": "2022-12-11T21:08:43.776Z"
        }
      }
    },
    {
      "cell_type": "code",
      "source": [
        "%%timeit\n",
        "old = 184703154733820672648003420467811958167461548314096394794497651898240907747785022811073489071375295079563445771323219344421732058564725384526124138296100021302272640036345027283527208777061514373910563020325336318470315473382067264800342046781195816746154831409639479449765189824090774778502281107348907137529507956344577132321934442173205856472538452612413829610002130227264003634502728352720877706151437391056302032533631847031547338206726480034204678119581674615483140963947944976518982409077477850228110734890713752950795634457713232193444217320585647253845261241382961000213022726400363450272835272087770615143739105630203253363184703154733820672648003420467811958167461548314096394794497651898240907747785022811073489071375295079563445771323219344421732058564725384526124138296100021302272640036345027283527208777061514373910563020325336318470315473382067264800342046781195816746154831409639479449765189824090774778502281107348907137529507956344577132321934442173205856472538452612413829610002130227264003634502728352720877706151437391056302032533631847031547338206726480034204678119581674615483140963947944976518982409077477850228110734890713752950795634457713232193444217320585647253845261241382961000213022726400363450272835272087770615143739105630203253363\n",
        "eval(\"old * 5\")"
      ],
      "outputs": [
        {
          "output_type": "stream",
          "name": "stdout",
          "text": [
            "5.21 µs ± 65.9 ns per loop (mean ± std. dev. of 7 runs, 100,000 loops each)\n"
          ]
        }
      ],
      "execution_count": 83,
      "metadata": {
        "collapsed": true,
        "jupyter": {
          "source_hidden": false,
          "outputs_hidden": false
        },
        "nteract": {
          "transient": {
            "deleting": false
          }
        },
        "execution": {
          "iopub.status.busy": "2022-12-11T21:29:11.122Z",
          "iopub.execute_input": "2022-12-11T21:29:11.161Z",
          "iopub.status.idle": "2022-12-11T21:29:15.305Z",
          "shell.execute_reply": "2022-12-11T21:29:15.322Z"
        }
      }
    },
    {
      "cell_type": "code",
      "source": [],
      "outputs": [],
      "execution_count": null,
      "metadata": {
        "collapsed": true,
        "jupyter": {
          "source_hidden": false,
          "outputs_hidden": false
        },
        "nteract": {
          "transient": {
            "deleting": false
          }
        }
      }
    },
    {
      "cell_type": "code",
      "source": [],
      "outputs": [],
      "execution_count": null,
      "metadata": {
        "collapsed": true,
        "jupyter": {
          "source_hidden": false,
          "outputs_hidden": false
        },
        "nteract": {
          "transient": {
            "deleting": false
          }
        }
      }
    },
    {
      "cell_type": "code",
      "source": [],
      "outputs": [],
      "execution_count": null,
      "metadata": {
        "collapsed": true,
        "jupyter": {
          "source_hidden": false,
          "outputs_hidden": false
        },
        "nteract": {
          "transient": {
            "deleting": false
          }
        }
      }
    }
  ],
  "metadata": {
    "kernel_info": {
      "name": "sawenv"
    },
    "language_info": {
      "name": "python",
      "version": "3.10.3",
      "mimetype": "text/x-python",
      "codemirror_mode": {
        "name": "ipython",
        "version": 3
      },
      "pygments_lexer": "ipython3",
      "nbconvert_exporter": "python",
      "file_extension": ".py"
    },
    "kernelspec": {
      "argv": [
        "/Users/lisa/Documents/virtual_envs/sawenv/bin/python3",
        "-m",
        "ipykernel_launcher",
        "-f",
        "{connection_file}"
      ],
      "display_name": "sawenv",
      "language": "python",
      "metadata": {
        "debugger": true
      },
      "name": "sawenv"
    },
    "nteract": {
      "version": "0.28.0"
    }
  },
  "nbformat": 4,
  "nbformat_minor": 0
}