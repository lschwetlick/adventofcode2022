{
  "cells": [
    {
      "cell_type": "code",
      "source": [
        "import string"
      ],
      "outputs": [],
      "execution_count": 1,
      "metadata": {
        "collapsed": true,
        "jupyter": {
          "source_hidden": false,
          "outputs_hidden": false
        },
        "nteract": {
          "transient": {
            "deleting": false
          }
        },
        "execution": {
          "shell.execute_reply": "2022-12-03T15:23:19.688Z",
          "iopub.status.busy": "2022-12-03T15:23:19.707Z",
          "iopub.execute_input": "2022-12-03T15:23:19.710Z",
          "iopub.status.idle": "2022-12-03T15:23:19.713Z"
        }
      }
    },
    {
      "cell_type": "markdown",
      "source": [
        "# solution 1"
      ],
      "metadata": {
        "nteract": {
          "transient": {
            "deleting": false
          }
        }
      }
    },
    {
      "cell_type": "code",
      "source": [
        "total_count = 0\n",
        "sectors = []\n",
        "with open(\"4th.txt\", \"r\") as file:\n",
        "    for i, line in enumerate(file):\n",
        "        #print(\"line\", i)\n",
        "        line = line.strip()\n",
        "        r1, r2 = line.split(\",\")\n",
        "        r1_0, r1_1 = r1.split(\"-\")\n",
        "        r2_0, r2_1 = r2.split(\"-\")\n",
        "        sectors1 = list(range(int(r1_0), int(r1_1)+1))\n",
        "        sectors2 = list(range(int(r2_0), int(r2_1)+1))\n",
        "        a_in_b = all([a in sectors1 for a in sectors2])\n",
        "        b_in_a = all([a in sectors2 for a in sectors1])\n",
        "        if a_in_b or b_in_a:\n",
        "          total_count += 1\n",
        "        #print(\"total\", total_count)\n",
        "        sectors.append(sectors1)\n",
        "        sectors.append(sectors2)\n",
        "\n",
        "print(total_count)"
      ],
      "outputs": [
        {
          "output_type": "stream",
          "name": "stdout",
          "text": [
            "471\n"
          ]
        }
      ],
      "execution_count": 37,
      "metadata": {
        "collapsed": true,
        "jupyter": {
          "source_hidden": false,
          "outputs_hidden": false
        },
        "nteract": {
          "transient": {
            "deleting": false
          }
        },
        "execution": {
          "iopub.status.busy": "2022-12-04T15:10:29.780Z",
          "iopub.execute_input": "2022-12-04T15:10:29.783Z",
          "iopub.status.idle": "2022-12-04T15:10:29.795Z",
          "shell.execute_reply": "2022-12-04T15:10:29.804Z"
        }
      }
    },
    {
      "cell_type": "markdown",
      "source": [
        "# solution 2"
      ],
      "metadata": {
        "nteract": {
          "transient": {
            "deleting": false
          }
        }
      }
    },
    {
      "cell_type": "code",
      "source": [
        "total_count = 0\n",
        "sectors = []\n",
        "with open(\"4th.txt\", \"r\") as file:\n",
        "    for i, line in enumerate(file):\n",
        "        #print(\"line\", i)\n",
        "        line = line.strip()\n",
        "        r1, r2 = line.split(\",\")\n",
        "        r1_0, r1_1 = r1.split(\"-\")\n",
        "        r2_0, r2_1 = r2.split(\"-\")\n",
        "        sectors1 = list(range(int(r1_0), int(r1_1)+1))\n",
        "        sectors2 = list(range(int(r2_0), int(r2_1)+1))\n",
        "        a_in_b = any([a in sectors1 for a in sectors2])\n",
        "        b_in_a = any([a in sectors2 for a in sectors1])\n",
        "        if a_in_b or b_in_a:\n",
        "          total_count += 1\n",
        "        #print(\"total\", total_count)\n",
        "        sectors.append(sectors1)\n",
        "        sectors.append(sectors2)\n",
        "\n",
        "print(total_count)"
      ],
      "outputs": [
        {
          "output_type": "stream",
          "name": "stdout",
          "text": [
            "888\n"
          ]
        }
      ],
      "execution_count": 45,
      "metadata": {
        "collapsed": true,
        "jupyter": {
          "source_hidden": false,
          "outputs_hidden": false
        },
        "nteract": {
          "transient": {
            "deleting": false
          }
        },
        "execution": {
          "iopub.status.busy": "2022-12-04T15:17:20.232Z",
          "iopub.execute_input": "2022-12-04T15:17:20.235Z",
          "iopub.status.idle": "2022-12-04T15:17:20.244Z",
          "shell.execute_reply": "2022-12-04T15:17:20.247Z"
        }
      }
    },
    {
      "cell_type": "code",
      "source": [],
      "outputs": [],
      "execution_count": null,
      "metadata": {
        "collapsed": true,
        "jupyter": {
          "source_hidden": false,
          "outputs_hidden": false
        },
        "nteract": {
          "transient": {
            "deleting": false
          }
        }
      }
    },
    {
      "cell_type": "code",
      "source": [],
      "outputs": [],
      "execution_count": null,
      "metadata": {
        "collapsed": true,
        "jupyter": {
          "source_hidden": false,
          "outputs_hidden": false
        },
        "nteract": {
          "transient": {
            "deleting": false
          }
        }
      }
    },
    {
      "cell_type": "code",
      "source": [],
      "outputs": [],
      "execution_count": null,
      "metadata": {
        "collapsed": true,
        "jupyter": {
          "source_hidden": false,
          "outputs_hidden": false
        },
        "nteract": {
          "transient": {
            "deleting": false
          }
        }
      }
    }
  ],
  "metadata": {
    "kernel_info": {
      "name": "sawenv"
    },
    "language_info": {
      "name": "python",
      "version": "3.10.3",
      "mimetype": "text/x-python",
      "codemirror_mode": {
        "name": "ipython",
        "version": 3
      },
      "pygments_lexer": "ipython3",
      "nbconvert_exporter": "python",
      "file_extension": ".py"
    },
    "kernelspec": {
      "argv": [
        "/Users/lisa/Documents/virtual_envs/sawenv/bin/python3",
        "-m",
        "ipykernel_launcher",
        "-f",
        "{connection_file}"
      ],
      "display_name": "sawenv",
      "language": "python",
      "metadata": {
        "debugger": true
      },
      "name": "sawenv"
    },
    "nteract": {
      "version": "0.28.0"
    }
  },
  "nbformat": 4,
  "nbformat_minor": 0
}