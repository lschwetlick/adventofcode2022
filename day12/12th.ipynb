{
  "cells": [
    {
      "cell_type": "code",
      "source": [
        "import string\n",
        "alphabet = list(string.ascii_lowercase)\n",
        "import numpy as np\n",
        "from matplotlib import pyplot as plt\n",
        "import matplotlib.animation as animation"
      ],
      "outputs": [],
      "execution_count": 262,
      "metadata": {
        "collapsed": true,
        "jupyter": {
          "source_hidden": false,
          "outputs_hidden": false
        },
        "nteract": {
          "transient": {
            "deleting": false
          }
        },
        "execution": {
          "iopub.status.busy": "2022-12-12T23:23:05.600Z",
          "iopub.execute_input": "2022-12-12T23:23:05.612Z",
          "iopub.status.idle": "2022-12-12T23:23:05.633Z",
          "shell.execute_reply": "2022-12-12T23:23:05.649Z"
        }
      }
    },
    {
      "cell_type": "code",
      "source": [
        "elevation = []\n",
        "start = ()\n",
        "end = ()\n",
        "with open(\"12th.txt\", \"r\") as file:\n",
        "    for i, line in enumerate(file):\n",
        "      l = line.strip()\n",
        "      if \"S\" in l:\n",
        "        start = (i, l.index(\"S\"))\n",
        "      if \"E\" in l:\n",
        "        end = (i, l.index(\"E\"))\n",
        "\n",
        "      aa = [alphabet.index(a) for a in list(l.replace(\"S\", \"a\").replace(\"E\", \"z\"))]\n",
        "      elevation.append(aa)\n",
        "elevation = np.array(elevation)"
      ],
      "outputs": [],
      "execution_count": 263,
      "metadata": {
        "collapsed": true,
        "jupyter": {
          "source_hidden": false,
          "outputs_hidden": false
        },
        "nteract": {
          "transient": {
            "deleting": false
          }
        },
        "execution": {
          "shell.execute_reply": "2022-12-12T23:23:05.971Z",
          "iopub.status.busy": "2022-12-12T23:23:05.923Z",
          "iopub.execute_input": "2022-12-12T23:23:05.943Z",
          "iopub.status.idle": "2022-12-12T23:23:05.960Z"
        }
      }
    },
    {
      "cell_type": "code",
      "source": [
        "plt.matshow(elevation)"
      ],
      "outputs": [
        {
          "output_type": "execute_result",
          "execution_count": 264,
          "data": {
            "text/plain": "<matplotlib.image.AxesImage at 0x130238af0>"
          },
          "metadata": {}
        },
        {
          "output_type": "display_data",
          "data": {
            "text/plain": "<Figure size 1004.49x288 with 1 Axes>",
            "image/png": "[encoded data removed]"
          },
          "metadata": {
            "needs_background": "light"
          }
        }
      ],
      "execution_count": 264,
      "metadata": {
        "collapsed": true,
        "jupyter": {
          "source_hidden": false,
          "outputs_hidden": false
        },
        "nteract": {
          "transient": {
            "deleting": false
          }
        },
        "execution": {
          "iopub.status.busy": "2022-12-12T23:23:06.177Z",
          "iopub.execute_input": "2022-12-12T23:23:06.189Z",
          "iopub.status.idle": "2022-12-12T23:23:06.222Z",
          "shell.execute_reply": "2022-12-12T23:23:06.262Z"
        }
      }
    },
    {
      "cell_type": "code",
      "source": [
        "start"
      ],
      "outputs": [
        {
          "output_type": "execute_result",
          "execution_count": 265,
          "data": {
            "text/plain": "(20, 0)"
          },
          "metadata": {}
        }
      ],
      "execution_count": 265,
      "metadata": {
        "collapsed": true,
        "jupyter": {
          "source_hidden": false,
          "outputs_hidden": false
        },
        "nteract": {
          "transient": {
            "deleting": false
          }
        },
        "execution": {
          "iopub.status.busy": "2022-12-12T23:23:06.428Z",
          "iopub.execute_input": "2022-12-12T23:23:06.438Z",
          "iopub.status.idle": "2022-12-12T23:23:06.462Z",
          "shell.execute_reply": "2022-12-12T23:23:06.472Z"
        }
      }
    },
    {
      "cell_type": "code",
      "source": [
        "yy, xx = np.mgrid[0:elevation.shape[0], 0:elevation.shape[1]]\n",
        "ref = xx+yy\n",
        "ref"
      ],
      "outputs": [
        {
          "output_type": "execute_result",
          "execution_count": 266,
          "data": {
            "text/plain": "array([[  0,   1,   2, ..., 140, 141, 142],\n       [  1,   2,   3, ..., 141, 142, 143],\n       [  2,   3,   4, ..., 142, 143, 144],\n       ...,\n       [ 38,  39,  40, ..., 178, 179, 180],\n       [ 39,  40,  41, ..., 179, 180, 181],\n       [ 40,  41,  42, ..., 180, 181, 182]])"
          },
          "metadata": {}
        }
      ],
      "execution_count": 266,
      "metadata": {
        "collapsed": true,
        "jupyter": {
          "source_hidden": false,
          "outputs_hidden": false
        },
        "nteract": {
          "transient": {
            "deleting": false
          }
        },
        "execution": {
          "iopub.status.busy": "2022-12-12T23:23:06.796Z",
          "iopub.execute_input": "2022-12-12T23:23:06.807Z",
          "iopub.status.idle": "2022-12-12T23:23:06.831Z",
          "shell.execute_reply": "2022-12-12T23:23:06.842Z"
        }
      }
    },
    {
      "cell_type": "code",
      "source": [
        "plt.matshow(ref)"
      ],
      "outputs": [
        {
          "output_type": "execute_result",
          "execution_count": 267,
          "data": {
            "text/plain": "<matplotlib.image.AxesImage at 0x1302a1ba0>"
          },
          "metadata": {}
        },
        {
          "output_type": "display_data",
          "data": {
            "text/plain": "<Figure size 1004.49x288 with 1 Axes>",
            "image/png": "[encoded data removed]"
          },
          "metadata": {
            "needs_background": "light"
          }
        }
      ],
      "execution_count": 267,
      "metadata": {
        "collapsed": true,
        "jupyter": {
          "source_hidden": false,
          "outputs_hidden": false
        },
        "nteract": {
          "transient": {
            "deleting": false
          }
        },
        "execution": {
          "iopub.status.busy": "2022-12-12T23:23:07.334Z",
          "iopub.execute_input": "2022-12-12T23:23:07.345Z",
          "iopub.status.idle": "2022-12-12T23:23:07.487Z",
          "shell.execute_reply": "2022-12-12T23:23:07.528Z"
        }
      }
    },
    {
      "cell_type": "code",
      "source": [
        "min_steps = np.ones(ref.shape)*99999999999\n",
        "min_steps[start] = 0"
      ],
      "outputs": [],
      "execution_count": 268,
      "metadata": {
        "collapsed": true,
        "jupyter": {
          "source_hidden": false,
          "outputs_hidden": false
        },
        "nteract": {
          "transient": {
            "deleting": false
          }
        },
        "execution": {
          "iopub.status.busy": "2022-12-12T23:23:07.806Z",
          "iopub.execute_input": "2022-12-12T23:23:07.817Z",
          "iopub.status.idle": "2022-12-12T23:23:07.835Z",
          "shell.execute_reply": "2022-12-12T23:23:07.848Z"
        }
      }
    },
    {
      "cell_type": "code",
      "source": [
        "7-5"
      ],
      "outputs": [
        {
          "output_type": "execute_result",
          "execution_count": 269,
          "data": {
            "text/plain": "2"
          },
          "metadata": {}
        }
      ],
      "execution_count": 269,
      "metadata": {
        "collapsed": true,
        "jupyter": {
          "source_hidden": false,
          "outputs_hidden": false
        },
        "nteract": {
          "transient": {
            "deleting": false
          }
        },
        "execution": {
          "iopub.status.busy": "2022-12-12T23:23:08.518Z",
          "iopub.execute_input": "2022-12-12T23:23:08.536Z",
          "iopub.status.idle": "2022-12-12T23:23:08.563Z",
          "shell.execute_reply": "2022-12-12T23:23:08.574Z"
        }
      }
    },
    {
      "cell_type": "code",
      "source": [
        "\n",
        "d = 0\n",
        "tot = 0\n",
        "while d < ref.max()+1:\n",
        "  min_steps  = min_steps.astype(int)\n",
        "  tot+=1\n",
        "  if tot>3000:\n",
        "    break\n",
        "  i_s = yy[ref==d]\n",
        "  j_s = xx[ref==d]\n",
        "  #print(i_s, j_s)\n",
        "  for i, j in zip(i_s, j_s):\n",
        "    # forward step\n",
        "    if i+1 in list(range(elevation.shape[0])):\n",
        "      if (elevation[i+1, j] - elevation[i, j] < 2):\n",
        "        if (min_steps[i+1, j] > min_steps[i, j]+1):\n",
        "          min_steps[i+1, j] = min_steps[i, j]+1\n",
        "    if j+1 in list(range(elevation.shape[1])):\n",
        "      if elevation[i, j+1] - elevation[i, j] < 2:\n",
        "        if (min_steps[i, j+1] > min_steps[i, j]+1):\n",
        "          min_steps[i, j+1] = min_steps[i, j]+1\n",
        "\n",
        "  backwards_necessary = False      \n",
        "  for i, j in zip(i_s, j_s):\n",
        "    if i-1 in list(range(elevation.shape[0])):\n",
        "      if elevation[i-1, j] - elevation[i, j] < 2:\n",
        "        if (min_steps[i-1, j] > min_steps[i, j]+1):\n",
        "          min_steps[i-1, j] = min_steps[i, j]+1\n",
        "          backwards_necessary = True\n",
        "        \n",
        "    if j-1 in list(range(elevation.shape[1])):\n",
        "      if elevation[i, j-1] - elevation[i, j] < 2:\n",
        "        if (min_steps[i, j-1] > min_steps[i, j]+1):\n",
        "          min_steps[i, j-1] = min_steps[i, j]+1\n",
        "#        pass\n",
        " #       min_steps[i, j-1] = w\n",
        "          backwards_necessary = True        \n",
        "  #print(backwards_necessary, d)\n",
        "  if backwards_necessary:\n",
        "    d -= 1\n",
        "  else:\n",
        "    d += 1\n",
        "print(\"total iterations\", tot, d, ref.max()+1)\n",
        "print(\"final: \", min_steps[end])"
      ],
      "outputs": [
        {
          "output_type": "stream",
          "name": "stdout",
          "text": [
            "total iterations 1391 183 183\n",
            "final:  462\n"
          ]
        }
      ],
      "execution_count": 270,
      "metadata": {
        "collapsed": true,
        "jupyter": {
          "source_hidden": false,
          "outputs_hidden": false
        },
        "nteract": {
          "transient": {
            "deleting": false
          }
        },
        "execution": {
          "iopub.status.busy": "2022-12-12T23:23:09.278Z",
          "iopub.execute_input": "2022-12-12T23:23:09.289Z",
          "iopub.status.idle": "2022-12-12T23:23:10.913Z",
          "shell.execute_reply": "2022-12-12T23:23:11.013Z"
        }
      }
    },
    {
      "cell_type": "code",
      "source": [
        "aa = min_steps.copy()\n",
        "aa[aa==99999999999] = 0\n",
        "plt.matshow(aa)"
      ],
      "outputs": [
        {
          "output_type": "execute_result",
          "execution_count": 271,
          "data": {
            "text/plain": "<matplotlib.image.AxesImage at 0x13030ad70>"
          },
          "metadata": {}
        },
        {
          "output_type": "display_data",
          "data": {
            "text/plain": "<Figure size 1004.49x288 with 1 Axes>",
            "image/png": "[encoded data removed]"
          },
          "metadata": {
            "needs_background": "light"
          }
        }
      ],
      "execution_count": 271,
      "metadata": {
        "collapsed": true,
        "jupyter": {
          "source_hidden": false,
          "outputs_hidden": false
        },
        "nteract": {
          "transient": {
            "deleting": false
          }
        },
        "execution": {
          "iopub.status.busy": "2022-12-12T23:23:10.931Z",
          "iopub.execute_input": "2022-12-12T23:23:10.942Z",
          "iopub.status.idle": "2022-12-12T23:23:10.976Z",
          "shell.execute_reply": "2022-12-12T23:23:11.021Z"
        }
      }
    },
    {
      "cell_type": "markdown",
      "source": [
        "# solution2"
      ],
      "metadata": {
        "nteract": {
          "transient": {
            "deleting": false
          }
        }
      }
    },
    {
      "cell_type": "code",
      "source": [
        "elevation = []\n",
        "start = ()\n",
        "end = ()\n",
        "with open(\"12th.txt\", \"r\") as file:\n",
        "    for i, line in enumerate(file):\n",
        "      l = line.strip()\n",
        "      if \"S\" in l:\n",
        "        start = (i, l.index(\"S\"))\n",
        "      if \"E\" in l:\n",
        "        end = (i, l.index(\"E\"))\n",
        "\n",
        "      aa = [alphabet.index(a) for a in list(l.replace(\"S\", \"a\").replace(\"E\", \"z\"))]\n",
        "      elevation.append(aa)\n",
        "elevation = np.array(elevation)\n",
        "\n",
        "yy, xx = np.mgrid[0:elevation.shape[0], 0:elevation.shape[1]]\n",
        "ref = xx+yy\n",
        "ref"
      ],
      "outputs": [
        {
          "output_type": "execute_result",
          "execution_count": 326,
          "data": {
            "text/plain": "array([[  0,   1,   2, ..., 140, 141, 142],\n       [  1,   2,   3, ..., 141, 142, 143],\n       [  2,   3,   4, ..., 142, 143, 144],\n       ...,\n       [ 38,  39,  40, ..., 178, 179, 180],\n       [ 39,  40,  41, ..., 179, 180, 181],\n       [ 40,  41,  42, ..., 180, 181, 182]])"
          },
          "metadata": {}
        }
      ],
      "execution_count": 326,
      "metadata": {
        "collapsed": true,
        "jupyter": {
          "source_hidden": false,
          "outputs_hidden": false
        },
        "nteract": {
          "transient": {
            "deleting": false
          }
        },
        "execution": {
          "iopub.status.busy": "2022-12-12T23:42:31.597Z",
          "iopub.execute_input": "2022-12-12T23:42:31.618Z",
          "iopub.status.idle": "2022-12-12T23:42:31.655Z",
          "shell.execute_reply": "2022-12-12T23:42:31.669Z"
        }
      }
    },
    {
      "cell_type": "code",
      "source": [
        "# walk down"
      ],
      "outputs": [],
      "execution_count": 327,
      "metadata": {
        "collapsed": true,
        "jupyter": {
          "source_hidden": false,
          "outputs_hidden": false
        },
        "nteract": {
          "transient": {
            "deleting": false
          }
        },
        "execution": {
          "iopub.status.busy": "2022-12-12T23:42:36.910Z",
          "iopub.execute_input": "2022-12-12T23:42:36.924Z",
          "iopub.status.idle": "2022-12-12T23:42:36.946Z",
          "shell.execute_reply": "2022-12-12T23:42:36.962Z"
        }
      }
    },
    {
      "cell_type": "code",
      "source": [
        "min_steps = np.ones(ref.shape)*99999999999\n",
        "min_steps[end] = 0\n",
        "d = 0\n",
        "tot = 0\n",
        "while d < ref.max()+1:\n",
        "  min_steps  = min_steps.astype(int)\n",
        "  tot+=1\n",
        "  if tot>5000:\n",
        "    break\n",
        "  i_s = yy[ref==d]\n",
        "  j_s = xx[ref==d]\n",
        "  #print(i_s, j_s)\n",
        "  for i, j in zip(i_s, j_s):\n",
        "    # forward step\n",
        "    if i+1 in list(range(elevation.shape[0])):\n",
        "      if (elevation[i, j] - elevation[i+1, j] < 2):\n",
        "        if (min_steps[i+1, j] > min_steps[i, j]+1):\n",
        "          min_steps[i+1, j] = min_steps[i, j]+1\n",
        "    if j+1 in list(range(elevation.shape[1])):\n",
        "      if elevation[i, j] - elevation[i, j+1] < 2:\n",
        "        if (min_steps[i, j+1] > min_steps[i, j]+1):\n",
        "          min_steps[i, j+1] = min_steps[i, j]+1\n",
        "\n",
        "  backwards_necessary = False      \n",
        "  for i, j in zip(i_s, j_s):\n",
        "    if i-1 in list(range(elevation.shape[0])):\n",
        "      if elevation[i, j] - elevation[i-1, j] < 2:\n",
        "        if (min_steps[i-1, j] > min_steps[i, j]+1):\n",
        "          min_steps[i-1, j] = min_steps[i, j]+1\n",
        "          backwards_necessary = True\n",
        "        \n",
        "    if j-1 in list(range(elevation.shape[1])):\n",
        "      if elevation[i, j] - elevation[i, j-1] < 2:\n",
        "        if (min_steps[i, j-1] > min_steps[i, j]+1):\n",
        "          min_steps[i, j-1] = min_steps[i, j]+1\n",
        "#        pass\n",
        " #       min_steps[i, j-1] = w\n",
        "          backwards_necessary = True        \n",
        "  #print(backwards_necessary, d)\n",
        "  if backwards_necessary:\n",
        "    d -= 1\n",
        "  else:\n",
        "    d += 1\n",
        "print(\"total iterations\", tot, d, ref.max()+1)\n",
        "print(\"final: \", min_steps[start])"
      ],
      "outputs": [
        {
          "output_type": "stream",
          "name": "stdout",
          "text": [
            "total iterations 3819 183 183\n",
            "final:  462\n"
          ]
        }
      ],
      "execution_count": 330,
      "metadata": {
        "collapsed": true,
        "jupyter": {
          "source_hidden": false,
          "outputs_hidden": false
        },
        "nteract": {
          "transient": {
            "deleting": false
          }
        },
        "execution": {
          "iopub.status.busy": "2022-12-12T23:42:56.996Z",
          "iopub.execute_input": "2022-12-12T23:42:57.012Z",
          "iopub.status.idle": "2022-12-12T23:43:00.561Z",
          "shell.execute_reply": "2022-12-12T23:43:00.608Z"
        }
      }
    },
    {
      "cell_type": "code",
      "source": [
        "aa = min_steps.copy()\n",
        "aa[aa==99999999999] = 0\n",
        "plt.matshow(aa)"
      ],
      "outputs": [
        {
          "output_type": "execute_result",
          "execution_count": 331,
          "data": {
            "text/plain": "<matplotlib.image.AxesImage at 0x1307a59c0>"
          },
          "metadata": {}
        },
        {
          "output_type": "display_data",
          "data": {
            "text/plain": "<Figure size 1004.49x288 with 1 Axes>",
            "image/png": "[encoded data removed]"
          },
          "metadata": {
            "needs_background": "light"
          }
        }
      ],
      "execution_count": 331,
      "metadata": {
        "collapsed": true,
        "jupyter": {
          "source_hidden": false,
          "outputs_hidden": false
        },
        "nteract": {
          "transient": {
            "deleting": false
          }
        },
        "execution": {
          "iopub.status.busy": "2022-12-12T23:43:04.966Z",
          "iopub.execute_input": "2022-12-12T23:43:04.981Z",
          "iopub.status.idle": "2022-12-12T23:43:05.077Z",
          "shell.execute_reply": "2022-12-12T23:43:05.112Z"
        }
      }
    },
    {
      "cell_type": "code",
      "source": [],
      "outputs": [],
      "execution_count": null,
      "metadata": {
        "collapsed": true,
        "jupyter": {
          "source_hidden": false,
          "outputs_hidden": false
        },
        "nteract": {
          "transient": {
            "deleting": false
          }
        }
      }
    },
    {
      "cell_type": "code",
      "source": [],
      "outputs": [],
      "execution_count": null,
      "metadata": {
        "collapsed": true,
        "jupyter": {
          "source_hidden": false,
          "outputs_hidden": false
        },
        "nteract": {
          "transient": {
            "deleting": false
          }
        }
      }
    },
    {
      "cell_type": "code",
      "source": [],
      "outputs": [],
      "execution_count": null,
      "metadata": {
        "collapsed": true,
        "jupyter": {
          "source_hidden": false,
          "outputs_hidden": false
        },
        "nteract": {
          "transient": {
            "deleting": false
          }
        }
      }
    },
    {
      "cell_type": "code",
      "source": [],
      "outputs": [],
      "execution_count": null,
      "metadata": {
        "collapsed": true,
        "jupyter": {
          "source_hidden": false,
          "outputs_hidden": false
        },
        "nteract": {
          "transient": {
            "deleting": false
          }
        }
      }
    },
    {
      "cell_type": "code",
      "source": [],
      "outputs": [],
      "execution_count": null,
      "metadata": {
        "collapsed": true,
        "jupyter": {
          "source_hidden": false,
          "outputs_hidden": false
        },
        "nteract": {
          "transient": {
            "deleting": false
          }
        }
      }
    },
    {
      "cell_type": "code",
      "source": [],
      "outputs": [],
      "execution_count": null,
      "metadata": {
        "collapsed": true,
        "jupyter": {
          "source_hidden": false,
          "outputs_hidden": false
        },
        "nteract": {
          "transient": {
            "deleting": false
          }
        }
      }
    },
    {
      "cell_type": "code",
      "source": [],
      "outputs": [],
      "execution_count": null,
      "metadata": {
        "collapsed": true,
        "jupyter": {
          "source_hidden": false,
          "outputs_hidden": false
        },
        "nteract": {
          "transient": {
            "deleting": false
          }
        }
      }
    },
    {
      "cell_type": "code",
      "source": [],
      "outputs": [],
      "execution_count": null,
      "metadata": {
        "collapsed": true,
        "jupyter": {
          "source_hidden": false,
          "outputs_hidden": false
        },
        "nteract": {
          "transient": {
            "deleting": false
          }
        }
      }
    }
  ],
  "metadata": {
    "kernel_info": {
      "name": "sawenv"
    },
    "language_info": {
      "name": "python",
      "version": "3.10.3",
      "mimetype": "text/x-python",
      "codemirror_mode": {
        "name": "ipython",
        "version": 3
      },
      "pygments_lexer": "ipython3",
      "nbconvert_exporter": "python",
      "file_extension": ".py"
    },
    "kernelspec": {
      "argv": [
        "/Users/lisa/Documents/virtual_envs/sawenv/bin/python3",
        "-m",
        "ipykernel_launcher",
        "-f",
        "{connection_file}"
      ],
      "display_name": "sawenv",
      "language": "python",
      "metadata": {
        "debugger": true
      },
      "name": "sawenv"
    },
    "nteract": {
      "version": "0.28.0"
    }
  },
  "nbformat": 4,
  "nbformat_minor": 0
}