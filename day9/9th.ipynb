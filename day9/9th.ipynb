{
  "cells": [
    {
      "cell_type": "markdown",
      "source": [
        "# solution 1"
      ],
      "metadata": {
        "nteract": {
          "transient": {
            "deleting": false
          }
        }
      }
    },
    {
      "cell_type": "code",
      "source": [
        "import numpy as np\n",
        "from matplotlib import pyplot as plt"
      ],
      "outputs": [],
      "execution_count": 117,
      "metadata": {
        "collapsed": true,
        "jupyter": {
          "source_hidden": false,
          "outputs_hidden": false
        },
        "nteract": {
          "transient": {
            "deleting": false
          }
        },
        "execution": {
          "iopub.status.busy": "2022-12-09T09:26:50.074Z",
          "iopub.execute_input": "2022-12-09T09:26:50.080Z",
          "iopub.status.idle": "2022-12-09T09:26:50.093Z",
          "shell.execute_reply": "2022-12-09T09:26:50.097Z"
        }
      }
    },
    {
      "cell_type": "code",
      "source": [
        "class rope():\n",
        "  def __init__(self):\n",
        "    self.head_pos = [0,0]\n",
        "    self.tail_pos = [0,0]\n",
        "    self.it = 0\n",
        "    self.history_head= np.zeros((20000,2))\n",
        "    self.history_tail= np.zeros((20000,2))\n",
        "  \n",
        "  def update_head_pos(self, d, n):\n",
        "      self.it += 1\n",
        "      if d == \"R\":\n",
        "        self.head_pos[0] += 1\n",
        "      if d == \"L\":\n",
        "        self.head_pos[0] -= 1\n",
        "      if d == \"U\":\n",
        "        self.head_pos[1] += 1\n",
        "      if d == \"D\":\n",
        "        self.head_pos[1] -= 1\n",
        "      r.update_tail_pos()\n",
        "      self.history_head[self.it, :] = self.head_pos\n",
        "      self.history_tail[self.it,:] = self.tail_pos\n",
        "      #print(self.head_pos, self.tail_pos)\n",
        "      \n",
        "  def update_tail_pos(self):\n",
        "    dx = self.head_pos[0] - self.tail_pos[0]\n",
        "    dy = self.head_pos[1] - self.tail_pos[1]\n",
        "    #print(dx, dy)\n",
        "    if dx!=0 and dy!=0 and ((abs(dx) > 1) or (abs(dy)>1)):\n",
        "      self.tail_pos[0] = self.tail_pos[0] + np.sign(dx)*1\n",
        "      self.tail_pos[1] = self.tail_pos[1] + np.sign(dy)*1\n",
        "    #  ??\n",
        "    elif dx > 1:\n",
        "      self.tail_pos[0] += 1\n",
        "    elif dx < -1:\n",
        "      self.tail_pos[0] -= 1\n",
        "    elif dy > 1:\n",
        "      self.tail_pos[1] += 1\n",
        "    elif dy < -1:\n",
        "      self.tail_pos[1] -= 1"
      ],
      "outputs": [],
      "execution_count": 126,
      "metadata": {
        "collapsed": true,
        "jupyter": {
          "source_hidden": false,
          "outputs_hidden": false
        },
        "nteract": {
          "transient": {
            "deleting": false
          }
        },
        "execution": {
          "iopub.status.busy": "2022-12-09T09:27:24.833Z",
          "iopub.execute_input": "2022-12-09T09:27:24.840Z",
          "iopub.status.idle": "2022-12-09T09:27:24.851Z",
          "shell.execute_reply": "2022-12-09T09:27:24.856Z"
        }
      }
    },
    {
      "cell_type": "code",
      "source": [
        "r = rope()\n",
        "with open(\"9th.txt\", \"r\") as file:\n",
        "    for i, line in enumerate(file):\n",
        "      instruction = line.strip().split(\" \")\n",
        "      r.update_head_pos(instruction[0], int(instruction[1]))"
      ],
      "outputs": [],
      "execution_count": 127,
      "metadata": {
        "collapsed": true,
        "jupyter": {
          "source_hidden": false,
          "outputs_hidden": false
        },
        "nteract": {
          "transient": {
            "deleting": false
          }
        },
        "execution": {
          "iopub.status.busy": "2022-12-09T09:27:25.392Z",
          "iopub.execute_input": "2022-12-09T09:27:25.396Z",
          "iopub.status.idle": "2022-12-09T09:27:25.408Z",
          "shell.execute_reply": "2022-12-09T09:27:25.426Z"
        }
      }
    },
    {
      "cell_type": "code",
      "source": [
        "fig, ax = plt.subplots()\n",
        "ax.plot(r.history_head[:r.it, 0], r.history_head[:r.it,1], color=\"green\")\n",
        "ax.scatter(r.history_head[:r.it, 0], r.history_head[:r.it,1], color=\"green\")\n",
        "ax.plot(r.history_tail[:r.it, 0], r.history_tail[:r.it, 1], color=\"red\", lw=3)\n",
        "ax.scatter(r.history_tail[:r.it, 0], r.history_tail[:r.it, 1], color=\"red\")\n",
        "#ax.set_xlim(0,6)\n",
        "#ax.set_ylim(0,6)"
      ],
      "outputs": [
        {
          "output_type": "execute_result",
          "execution_count": 129,
          "data": {
            "text/plain": "<matplotlib.collections.PathCollection at 0x12e660f70>"
          },
          "metadata": {}
        },
        {
          "output_type": "display_data",
          "data": {
            "text/plain": "<Figure size 432x288 with 1 Axes>",
            "image/png": "[encoded data removed]"
          },
          "metadata": {
            "needs_background": "light"
          }
        }
      ],
      "execution_count": 129,
      "metadata": {
        "collapsed": true,
        "jupyter": {
          "source_hidden": false,
          "outputs_hidden": false
        },
        "nteract": {
          "transient": {
            "deleting": false
          }
        },
        "execution": {
          "iopub.status.busy": "2022-12-09T09:27:36.884Z",
          "iopub.execute_input": "2022-12-09T09:27:36.889Z",
          "iopub.status.idle": "2022-12-09T09:27:36.964Z",
          "shell.execute_reply": "2022-12-09T09:27:36.977Z"
        }
      }
    },
    {
      "cell_type": "code",
      "source": [
        "poslist = [tuple(i) for i in list(r.history_tail)]\n",
        "posset = set(poslist)\n",
        "len(posset)"
      ],
      "outputs": [
        {
          "output_type": "execute_result",
          "execution_count": 130,
          "data": {
            "text/plain": "6367"
          },
          "metadata": {}
        }
      ],
      "execution_count": 130,
      "metadata": {
        "collapsed": true,
        "jupyter": {
          "source_hidden": false,
          "outputs_hidden": false
        },
        "nteract": {
          "transient": {
            "deleting": false
          }
        },
        "execution": {
          "iopub.status.busy": "2022-12-09T09:27:45.261Z",
          "iopub.execute_input": "2022-12-09T09:27:45.265Z",
          "iopub.status.idle": "2022-12-09T09:27:45.281Z",
          "shell.execute_reply": "2022-12-09T09:27:45.285Z"
        }
      }
    },
    {
      "cell_type": "markdown",
      "source": [
        "# Part2"
      ],
      "metadata": {
        "nteract": {
          "transient": {
            "deleting": false
          }
        }
      }
    },
    {
      "cell_type": "code",
      "source": [
        "class rope():\n",
        "  def __init__(self):\n",
        "    self.head_pos = [0,0]\n",
        "    self.tail_pos = [0,0]\n",
        "    self.it = 0\n",
        "    self.history_head= np.zeros((20000,2))\n",
        "    self.history_tail= np.zeros((20000,2))\n",
        "  \n",
        "  def set_head_pos(self,new_pos, it):\n",
        "    assert it == 1\n",
        "    self.head_pos = new_pos\n",
        "    self.update_tail_pos()\n",
        "    self.it += it\n",
        "    self.history_head[self.it, :] = self.head_pos\n",
        "    self.history_tail[self.it,:] = self.tail_pos\n",
        "  \n",
        "  def update_head_pos(self, d, n):\n",
        "      self.it += 1\n",
        "      if d == \"R\":\n",
        "        self.head_pos[0] += 1\n",
        "      if d == \"L\":\n",
        "        self.head_pos[0] -= 1\n",
        "      if d == \"U\":\n",
        "        self.head_pos[1] += 1\n",
        "      if d == \"D\":\n",
        "        self.head_pos[1] -= 1\n",
        "      self.update_tail_pos()\n",
        "      self.history_head[self.it, :] = self.head_pos\n",
        "      self.history_tail[self.it,:] = self.tail_pos\n",
        "      #print(self.head_pos, self.tail_pos)\n",
        "      \n",
        "  def update_tail_pos(self):\n",
        "    dx = self.head_pos[0] - self.tail_pos[0]\n",
        "    dy = self.head_pos[1] - self.tail_pos[1]\n",
        "    #print(dx, dy)\n",
        "    if dx!=0 and dy!=0 and ((abs(dx) > 1) or (abs(dy)>1)):\n",
        "      self.tail_pos[0] = self.tail_pos[0] + np.sign(dx)*1\n",
        "      self.tail_pos[1] = self.tail_pos[1] + np.sign(dy)*1\n",
        "    #  ??\n",
        "    elif dx > 1:\n",
        "      self.tail_pos[0] += 1\n",
        "    elif dx < -1:\n",
        "      self.tail_pos[0] -= 1\n",
        "    elif dy > 1:\n",
        "      self.tail_pos[1] += 1\n",
        "    elif dy < -1:\n",
        "      self.tail_pos[1] -= 1"
      ],
      "outputs": [],
      "execution_count": 174,
      "metadata": {
        "collapsed": true,
        "jupyter": {
          "source_hidden": false,
          "outputs_hidden": false
        },
        "nteract": {
          "transient": {
            "deleting": false
          }
        },
        "execution": {
          "iopub.status.busy": "2022-12-09T09:55:35.114Z",
          "iopub.execute_input": "2022-12-09T09:55:35.119Z",
          "iopub.status.idle": "2022-12-09T09:55:35.131Z",
          "shell.execute_reply": "2022-12-09T09:55:35.136Z"
        }
      }
    },
    {
      "cell_type": "code",
      "source": [
        "class mega_rope():\n",
        "  def __init__(self):\n",
        "    self.n_endings = 9\n",
        "    self.subropes = {}\n",
        "    for i in range(self.n_endings):\n",
        "      self.subropes[i] = rope()\n",
        "  \n",
        "  def update_all(self, d, n):\n",
        "    for i in range(n):\n",
        "      self.subropes[0].update_head_pos(d, 1)\n",
        "      next_head = self.subropes[0].tail_pos\n",
        "      #print(next_head)\n",
        "      for sr in range(1, self.n_endings):\n",
        "        self.subropes[sr].set_head_pos(next_head, 1)\n",
        "        next_head = self.subropes[sr].tail_pos\n",
        "      "
      ],
      "outputs": [],
      "execution_count": 181,
      "metadata": {
        "collapsed": true,
        "jupyter": {
          "source_hidden": false,
          "outputs_hidden": false
        },
        "nteract": {
          "transient": {
            "deleting": false
          }
        },
        "execution": {
          "iopub.status.busy": "2022-12-09T09:57:00.875Z",
          "iopub.execute_input": "2022-12-09T09:57:00.881Z",
          "iopub.status.idle": "2022-12-09T09:57:00.891Z",
          "shell.execute_reply": "2022-12-09T09:57:00.901Z"
        }
      }
    },
    {
      "cell_type": "code",
      "source": [
        "mr = mega_rope()\n",
        "mr.update_all(\"R\", 3)"
      ],
      "outputs": [],
      "execution_count": 182,
      "metadata": {
        "collapsed": true,
        "jupyter": {
          "source_hidden": false,
          "outputs_hidden": false
        },
        "nteract": {
          "transient": {
            "deleting": false
          }
        },
        "execution": {
          "iopub.status.busy": "2022-12-09T09:57:01.086Z",
          "iopub.execute_input": "2022-12-09T09:57:01.092Z",
          "iopub.status.idle": "2022-12-09T09:57:01.100Z",
          "shell.execute_reply": "2022-12-09T09:57:01.105Z"
        }
      }
    },
    {
      "cell_type": "code",
      "source": [
        "[mr.subropes[a].tail_pos for a in mr.subropes]"
      ],
      "outputs": [
        {
          "output_type": "execute_result",
          "execution_count": 183,
          "data": {
            "text/plain": "[[2, 0], [1, 0], [0, 0], [0, 0], [0, 0], [0, 0], [0, 0], [0, 0], [0, 0]]"
          },
          "metadata": {}
        }
      ],
      "execution_count": 183,
      "metadata": {
        "collapsed": true,
        "jupyter": {
          "source_hidden": false,
          "outputs_hidden": false
        },
        "nteract": {
          "transient": {
            "deleting": false
          }
        },
        "execution": {
          "iopub.status.busy": "2022-12-09T09:57:01.333Z",
          "iopub.execute_input": "2022-12-09T09:57:01.339Z",
          "iopub.status.idle": "2022-12-09T09:57:01.355Z",
          "shell.execute_reply": "2022-12-09T09:57:01.360Z"
        }
      }
    },
    {
      "cell_type": "code",
      "source": [
        "[mr.subropes[a].head_pos for a in mr.subropes]"
      ],
      "outputs": [
        {
          "output_type": "execute_result",
          "execution_count": 184,
          "data": {
            "text/plain": "[[3, 0], [2, 0], [1, 0], [0, 0], [0, 0], [0, 0], [0, 0], [0, 0], [0, 0]]"
          },
          "metadata": {}
        }
      ],
      "execution_count": 184,
      "metadata": {
        "collapsed": true,
        "jupyter": {
          "source_hidden": false,
          "outputs_hidden": false
        },
        "nteract": {
          "transient": {
            "deleting": false
          }
        },
        "execution": {
          "iopub.status.busy": "2022-12-09T09:57:01.849Z",
          "iopub.execute_input": "2022-12-09T09:57:01.854Z",
          "iopub.status.idle": "2022-12-09T09:57:01.866Z",
          "shell.execute_reply": "2022-12-09T09:57:01.871Z"
        }
      }
    },
    {
      "cell_type": "code",
      "source": [
        "mr = mega_rope()\n",
        "with open(\"9th.txt\", \"r\") as file:\n",
        "    for i, line in enumerate(file):\n",
        "      instruction = line.strip().split(\" \")\n",
        "      mr.update_all(instruction[0], int(instruction[1]))"
      ],
      "outputs": [],
      "execution_count": 194,
      "metadata": {
        "collapsed": true,
        "jupyter": {
          "source_hidden": false,
          "outputs_hidden": false
        },
        "nteract": {
          "transient": {
            "deleting": false
          }
        },
        "execution": {
          "iopub.status.busy": "2022-12-09T10:00:02.580Z",
          "iopub.execute_input": "2022-12-09T10:00:02.587Z",
          "iopub.status.idle": "2022-12-09T10:00:02.885Z",
          "shell.execute_reply": "2022-12-09T10:00:02.893Z"
        }
      }
    },
    {
      "cell_type": "code",
      "source": [
        "#mr.subropes[8].history_tail[:20,:]"
      ],
      "outputs": [],
      "execution_count": 195,
      "metadata": {
        "collapsed": true,
        "jupyter": {
          "source_hidden": false,
          "outputs_hidden": false
        },
        "nteract": {
          "transient": {
            "deleting": false
          }
        },
        "execution": {
          "iopub.status.busy": "2022-12-09T10:00:06.607Z",
          "iopub.execute_input": "2022-12-09T10:00:06.613Z",
          "iopub.status.idle": "2022-12-09T10:00:06.622Z",
          "shell.execute_reply": "2022-12-09T10:00:06.631Z"
        }
      }
    },
    {
      "cell_type": "code",
      "source": [
        "poslist = [tuple(i) for i in list(mr.subropes[8].history_tail)]\n",
        "posset = set(poslist)\n",
        "len(posset)"
      ],
      "outputs": [
        {
          "output_type": "execute_result",
          "execution_count": 196,
          "data": {
            "text/plain": "2536"
          },
          "metadata": {}
        }
      ],
      "execution_count": 196,
      "metadata": {
        "collapsed": true,
        "jupyter": {
          "source_hidden": false,
          "outputs_hidden": false
        },
        "nteract": {
          "transient": {
            "deleting": false
          }
        },
        "execution": {
          "iopub.status.busy": "2022-12-09T10:00:08.280Z",
          "iopub.execute_input": "2022-12-09T10:00:08.287Z",
          "iopub.status.idle": "2022-12-09T10:00:08.305Z",
          "shell.execute_reply": "2022-12-09T10:00:08.312Z"
        }
      }
    },
    {
      "cell_type": "code",
      "source": [],
      "outputs": [],
      "execution_count": null,
      "metadata": {
        "collapsed": true,
        "jupyter": {
          "source_hidden": false,
          "outputs_hidden": false
        },
        "nteract": {
          "transient": {
            "deleting": false
          }
        }
      }
    },
    {
      "cell_type": "code",
      "source": [],
      "outputs": [],
      "execution_count": null,
      "metadata": {
        "collapsed": true,
        "jupyter": {
          "source_hidden": false,
          "outputs_hidden": false
        },
        "nteract": {
          "transient": {
            "deleting": false
          }
        }
      }
    },
    {
      "cell_type": "code",
      "source": [],
      "outputs": [],
      "execution_count": null,
      "metadata": {
        "collapsed": true,
        "jupyter": {
          "source_hidden": false,
          "outputs_hidden": false
        },
        "nteract": {
          "transient": {
            "deleting": false
          }
        }
      }
    }
  ],
  "metadata": {
    "kernel_info": {
      "name": "sawenv"
    },
    "language_info": {
      "name": "python",
      "version": "3.10.3",
      "mimetype": "text/x-python",
      "codemirror_mode": {
        "name": "ipython",
        "version": 3
      },
      "pygments_lexer": "ipython3",
      "nbconvert_exporter": "python",
      "file_extension": ".py"
    },
    "kernelspec": {
      "argv": [
        "/Users/lisa/Documents/virtual_envs/sawenv/bin/python3",
        "-m",
        "ipykernel_launcher",
        "-f",
        "{connection_file}"
      ],
      "display_name": "sawenv",
      "language": "python",
      "metadata": {
        "debugger": true
      },
      "name": "sawenv"
    },
    "nteract": {
      "version": "0.28.0"
    }
  },
  "nbformat": 4,
  "nbformat_minor": 0
}