{
  "cells": [
    {
      "cell_type": "code",
      "source": [],
      "outputs": [],
      "execution_count": null,
      "metadata": {
        "collapsed": true,
        "jupyter": {
          "source_hidden": false,
          "outputs_hidden": false
        },
        "nteract": {
          "transient": {
            "deleting": false
          }
        }
      }
    },
    {
      "cell_type": "code",
      "source": [
        "rules = {\n",
        "  \"A\" : \"Y\",\n",
        "  \"B\" : \"Z\",\n",
        "  \"C\" : \"X\"\n",
        "}\n",
        "base_points = {\n",
        "  \"X\": 1,\n",
        "  \"Y\": 2,\n",
        "  \"Z\": 3\n",
        "}\n",
        "player_map = {\n",
        "  \"X\": \"A\",\n",
        "  \"Y\": \"B\",\n",
        "  \"Z\": \"C\"\n",
        "}\n",
        "rev_player_map = {\n",
        "  \"A\" : \"X\",\n",
        "  \"B\" : \"Y\",\n",
        "  \"C\" : \"Z\"\n",
        "}"
      ],
      "outputs": [],
      "execution_count": 17,
      "metadata": {
        "collapsed": true,
        "jupyter": {
          "source_hidden": false,
          "outputs_hidden": false
        },
        "nteract": {
          "transient": {
            "deleting": false
          }
        },
        "execution": {
          "iopub.status.busy": "2022-12-02T08:08:50.559Z",
          "iopub.execute_input": "2022-12-02T08:08:50.567Z",
          "iopub.status.idle": "2022-12-02T08:08:50.573Z",
          "shell.execute_reply": "2022-12-02T08:08:50.576Z"
        }
      }
    },
    {
      "cell_type": "markdown",
      "source": [
        "# solution 1"
      ],
      "metadata": {
        "nteract": {
          "transient": {
            "deleting": false
          }
        }
      }
    },
    {
      "cell_type": "code",
      "source": [
        "score_count = 0\n",
        "with open(\"2nd.txt\", \"r\") as file:\n",
        "    for line in file:\n",
        "        them, me = line.split()\n",
        "        #print(them, me)\n",
        "        score_count += base_points[me]\n",
        "        if them == player_map[me]:\n",
        "          score_count += 3\n",
        "        if rules[them] == me:\n",
        "          score_count += 6\n",
        "print(score_count)"
      ],
      "outputs": [
        {
          "output_type": "stream",
          "name": "stdout",
          "text": [
            "12855\n"
          ]
        }
      ],
      "execution_count": 18,
      "metadata": {
        "collapsed": true,
        "jupyter": {
          "source_hidden": false,
          "outputs_hidden": false
        },
        "nteract": {
          "transient": {
            "deleting": false
          }
        },
        "execution": {
          "iopub.status.busy": "2022-12-02T08:08:51.006Z",
          "iopub.execute_input": "2022-12-02T08:08:51.009Z",
          "iopub.status.idle": "2022-12-02T08:08:51.016Z",
          "shell.execute_reply": "2022-12-02T08:08:51.019Z"
        }
      }
    },
    {
      "cell_type": "markdown",
      "source": [
        "# solution 2"
      ],
      "metadata": {
        "nteract": {
          "transient": {
            "deleting": false
          }
        }
      }
    },
    {
      "cell_type": "code",
      "source": [
        "def find_response(them, res):\n",
        "  if res == \"Z\":\n",
        "    me = rules[them]\n",
        "  if res == \"Y\":\n",
        "    me = rev_player_map[them]\n",
        "  if res == \"X\":\n",
        "    options = [\"X\", \"Y\", \"Z\"]\n",
        "    options.remove(rev_player_map[them])\n",
        "    options.remove(rules[them])\n",
        "    me = options[0]\n",
        "  return me"
      ],
      "outputs": [],
      "execution_count": 22,
      "metadata": {
        "collapsed": true,
        "jupyter": {
          "source_hidden": false,
          "outputs_hidden": false
        },
        "nteract": {
          "transient": {
            "deleting": false
          }
        },
        "execution": {
          "iopub.status.busy": "2022-12-02T08:09:09.105Z",
          "iopub.execute_input": "2022-12-02T08:09:09.109Z",
          "iopub.status.idle": "2022-12-02T08:09:09.117Z",
          "shell.execute_reply": "2022-12-02T08:09:09.122Z"
        }
      }
    },
    {
      "cell_type": "code",
      "source": [
        "score_count = 0\n",
        "with open(\"2nd.txt\", \"r\") as file:\n",
        "    for line in file:\n",
        "        them, res = line.split()\n",
        "        me = find_response(them, res)\n",
        "        #print(them, me)\n",
        "        score_count += base_points[me]\n",
        "        if them == player_map[me]:\n",
        "          score_count += 3\n",
        "        if rules[them] == me:\n",
        "          score_count += 6\n",
        "print(score_count)"
      ],
      "outputs": [
        {
          "output_type": "stream",
          "name": "stdout",
          "text": [
            "13726\n"
          ]
        }
      ],
      "execution_count": 24,
      "metadata": {
        "collapsed": true,
        "jupyter": {
          "source_hidden": false,
          "outputs_hidden": false
        },
        "nteract": {
          "transient": {
            "deleting": false
          }
        },
        "execution": {
          "iopub.status.busy": "2022-12-02T08:09:22.606Z",
          "iopub.execute_input": "2022-12-02T08:09:22.609Z",
          "iopub.status.idle": "2022-12-02T08:09:22.624Z",
          "shell.execute_reply": "2022-12-02T08:09:22.631Z"
        }
      }
    },
    {
      "cell_type": "code",
      "source": [],
      "outputs": [],
      "execution_count": null,
      "metadata": {
        "collapsed": true,
        "jupyter": {
          "source_hidden": false,
          "outputs_hidden": false
        },
        "nteract": {
          "transient": {
            "deleting": false
          }
        }
      }
    },
    {
      "cell_type": "code",
      "source": [],
      "outputs": [],
      "execution_count": null,
      "metadata": {
        "collapsed": true,
        "jupyter": {
          "source_hidden": false,
          "outputs_hidden": false
        },
        "nteract": {
          "transient": {
            "deleting": false
          }
        }
      }
    },
    {
      "cell_type": "code",
      "source": [],
      "outputs": [],
      "execution_count": null,
      "metadata": {
        "collapsed": true,
        "jupyter": {
          "source_hidden": false,
          "outputs_hidden": false
        },
        "nteract": {
          "transient": {
            "deleting": false
          }
        }
      }
    }
  ],
  "metadata": {
    "kernel_info": {
      "name": "sawenv"
    },
    "language_info": {
      "name": "python",
      "version": "3.10.3",
      "mimetype": "text/x-python",
      "codemirror_mode": {
        "name": "ipython",
        "version": 3
      },
      "pygments_lexer": "ipython3",
      "nbconvert_exporter": "python",
      "file_extension": ".py"
    },
    "kernelspec": {
      "argv": [
        "/Users/lisa/Documents/virtual_envs/sawenv/bin/python3",
        "-m",
        "ipykernel_launcher",
        "-f",
        "{connection_file}"
      ],
      "display_name": "sawenv",
      "language": "python",
      "metadata": {
        "debugger": true
      },
      "name": "sawenv"
    },
    "nteract": {
      "version": "0.28.0"
    }
  },
  "nbformat": 4,
  "nbformat_minor": 0
}