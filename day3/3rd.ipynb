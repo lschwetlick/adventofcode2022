{
  "cells": [
    {
      "cell_type": "code",
      "source": [
        "import string"
      ],
      "outputs": [],
      "execution_count": 1,
      "metadata": {
        "collapsed": true,
        "jupyter": {
          "source_hidden": false,
          "outputs_hidden": false
        },
        "nteract": {
          "transient": {
            "deleting": false
          }
        },
        "execution": {
          "shell.execute_reply": "2022-12-03T15:23:19.688Z",
          "iopub.status.busy": "2022-12-03T15:23:19.707Z",
          "iopub.execute_input": "2022-12-03T15:23:19.710Z",
          "iopub.status.idle": "2022-12-03T15:23:19.713Z"
        }
      }
    },
    {
      "cell_type": "code",
      "source": [
        "az_Lower = string.ascii_lowercase\n",
        "az_Upper = string.ascii_uppercase\n",
        "letters_by_prio = az_Lower + az_Upper\n",
        "letters_by_prio"
      ],
      "outputs": [
        {
          "output_type": "execute_result",
          "execution_count": 3,
          "data": {
            "text/plain": "'abcdefghijklmnopqrstuvwxyzABCDEFGHIJKLMNOPQRSTUVWXYZ'"
          },
          "metadata": {}
        }
      ],
      "execution_count": 3,
      "metadata": {
        "collapsed": true,
        "jupyter": {
          "source_hidden": false,
          "outputs_hidden": false
        },
        "nteract": {
          "transient": {
            "deleting": false
          }
        },
        "execution": {
          "iopub.status.busy": "2022-12-03T15:24:14.296Z",
          "iopub.execute_input": "2022-12-03T15:24:14.299Z",
          "iopub.status.idle": "2022-12-03T15:24:14.316Z",
          "shell.execute_reply": "2022-12-03T15:24:14.327Z"
        }
      }
    },
    {
      "cell_type": "markdown",
      "source": [
        "# solution 1"
      ],
      "metadata": {
        "nteract": {
          "transient": {
            "deleting": false
          }
        }
      }
    },
    {
      "cell_type": "code",
      "source": [
        "count = 0\n",
        "with open(\"3rd.txt\", \"r\") as file:\n",
        "    for line in file:\n",
        "        line = line.strip()\n",
        "        comp1 = line[:int(len(line)/2)]\n",
        "        comp2 = line[int(len(line)/2):]\n",
        "        duplicate = [c1 for i, c1 in enumerate(comp1) if c1 in comp2][0]\n",
        "        dup_prio = letters_by_prio.index(duplicate) + 1\n",
        "        #print(duplicate, dup_prio)\n",
        "        #print(comp1, comp2)\n",
        "        count += dup_prio\n",
        "        \n",
        "print(count)"
      ],
      "outputs": [
        {
          "output_type": "stream",
          "name": "stdout",
          "text": [
            "7785\n"
          ]
        }
      ],
      "execution_count": 20,
      "metadata": {
        "collapsed": true,
        "jupyter": {
          "source_hidden": false,
          "outputs_hidden": false
        },
        "nteract": {
          "transient": {
            "deleting": false
          }
        },
        "execution": {
          "iopub.status.busy": "2022-12-03T15:33:27.901Z",
          "iopub.execute_input": "2022-12-03T15:33:27.905Z",
          "iopub.status.idle": "2022-12-03T15:33:27.915Z",
          "shell.execute_reply": "2022-12-03T15:33:27.918Z"
        }
      }
    },
    {
      "cell_type": "markdown",
      "source": [
        "# solution 2"
      ],
      "metadata": {
        "nteract": {
          "transient": {
            "deleting": false
          }
        }
      }
    },
    {
      "cell_type": "code",
      "source": [
        "count = 0\n",
        "with open(\"3rd.txt\", \"r\") as file:\n",
        "    begun_group = False\n",
        "    group_candidates = []\n",
        "    for i, line in enumerate(file):\n",
        "        line = line.strip()\n",
        "        if begun_group:\n",
        "          group_candidates = [it for it in group_candidates if it in line]\n",
        "        else:\n",
        "          group_candidates = line\n",
        "          begun_group = True\n",
        "        if i % 3 == 2:\n",
        "          begun_group = False\n",
        "          badge_letter = group_candidates[0]\n",
        "          prio = letters_by_prio.index(badge_letter) + 1\n",
        "          count += prio\n",
        "\n"
      ],
      "outputs": [
        {
          "output_type": "stream",
          "name": "stdout",
          "text": [
            "2633\n"
          ]
        }
      ],
      "execution_count": 36,
      "metadata": {
        "collapsed": true,
        "jupyter": {
          "source_hidden": false,
          "outputs_hidden": false
        },
        "nteract": {
          "transient": {
            "deleting": false
          }
        },
        "execution": {
          "iopub.status.busy": "2022-12-03T15:48:07.706Z",
          "iopub.execute_input": "2022-12-03T15:48:07.711Z",
          "iopub.status.idle": "2022-12-03T15:48:07.726Z",
          "shell.execute_reply": "2022-12-03T15:48:07.729Z"
        }
      }
    },
    {
      "cell_type": "code",
      "source": [],
      "outputs": [],
      "execution_count": null,
      "metadata": {
        "collapsed": true,
        "jupyter": {
          "source_hidden": false,
          "outputs_hidden": false
        },
        "nteract": {
          "transient": {
            "deleting": false
          }
        }
      }
    },
    {
      "cell_type": "code",
      "source": [],
      "outputs": [],
      "execution_count": null,
      "metadata": {
        "collapsed": true,
        "jupyter": {
          "source_hidden": false,
          "outputs_hidden": false
        },
        "nteract": {
          "transient": {
            "deleting": false
          }
        }
      }
    },
    {
      "cell_type": "code",
      "source": [],
      "outputs": [],
      "execution_count": null,
      "metadata": {
        "collapsed": true,
        "jupyter": {
          "source_hidden": false,
          "outputs_hidden": false
        },
        "nteract": {
          "transient": {
            "deleting": false
          }
        }
      }
    }
  ],
  "metadata": {
    "kernel_info": {
      "name": "sawenv"
    },
    "language_info": {
      "name": "python",
      "version": "3.10.3",
      "mimetype": "text/x-python",
      "codemirror_mode": {
        "name": "ipython",
        "version": 3
      },
      "pygments_lexer": "ipython3",
      "nbconvert_exporter": "python",
      "file_extension": ".py"
    },
    "kernelspec": {
      "argv": [
        "/Users/lisa/Documents/virtual_envs/sawenv/bin/python3",
        "-m",
        "ipykernel_launcher",
        "-f",
        "{connection_file}"
      ],
      "display_name": "sawenv",
      "language": "python",
      "metadata": {
        "debugger": true
      },
      "name": "sawenv"
    },
    "nteract": {
      "version": "0.28.0"
    }
  },
  "nbformat": 4,
  "nbformat_minor": 0
}