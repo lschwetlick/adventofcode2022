{
  "cells": [
    {
      "cell_type": "code",
      "source": [
        "import numpy as np\n",
        "from matplotlib import pyplot as plt\n",
        "import matplotlib.animation as animation"
      ],
      "outputs": [],
      "execution_count": 1,
      "metadata": {
        "collapsed": true,
        "jupyter": {
          "source_hidden": false,
          "outputs_hidden": false
        },
        "nteract": {
          "transient": {
            "deleting": false
          }
        },
        "execution": {
          "iopub.status.busy": "2022-12-10T12:49:34.968Z",
          "iopub.execute_input": "2022-12-10T12:49:34.976Z",
          "iopub.status.idle": "2022-12-10T12:49:35.520Z",
          "shell.execute_reply": "2022-12-10T12:49:35.595Z"
        }
      }
    },
    {
      "cell_type": "code",
      "source": [
        "class CPU:\n",
        "  def __init__(self):\n",
        "    self.X = 1\n",
        "    self.cycles = 0\n",
        "    self.cycle_history= np.zeros(1000)\n",
        "    self.cycle_history[self.cycles] = self.X\n",
        "    #self.instruction_dict = {}\n",
        "    self.ctr = np.zeros((6, 40))\n",
        "  \n",
        "  def draw(self):\n",
        "    ctr_ix = np.unravel_index(self.cycles-1, (6,40))\n",
        "    if ctr_ix[1] in [self.X-1, self.X, self.X+1]:\n",
        "      self.ctr[ctr_ix] = 1\n",
        "  \n",
        "  def noop(self):\n",
        "    self.cycles += 1\n",
        "    self.draw()\n",
        "    self.cycle_history[self.cycles] = self.X\n",
        "\n",
        "  def addx(self, v):\n",
        "    self.cycles += 1\n",
        "    self.draw()\n",
        "    self.cycle_history[self.cycles] = self.X\n",
        "    self.cycles += 1\n",
        "    self.draw()\n",
        "    self.X += v\n",
        "    self.cycle_history[self.cycles] = self.X\n",
        "    \n",
        "  def parse(self, line):\n",
        "    f = line.strip().split(\" \")\n",
        "    #self.instruction_dict[self.cycles] = (f, self.X)\n",
        "    if f[0]==\"addx\":\n",
        "        self.addx(int(f[1]))\n",
        "    if f[0]==\"noop\":\n",
        "        self.noop()\n",
        "\n",
        "  def get_signal_strength(self):\n",
        "    test_points = np.arange(20, self.cycles, 40)\n",
        "    print(test_points)\n",
        "    # -1 for DURING\n",
        "    X_vals = self.cycle_history[test_points-1]\n",
        "    print(X_vals)\n",
        "    stren = test_points*X_vals\n",
        "    print(stren)\n",
        "    return(sum(stren))\n",
        "  "
      ],
      "outputs": [],
      "execution_count": 40,
      "metadata": {
        "collapsed": true,
        "jupyter": {
          "source_hidden": false,
          "outputs_hidden": false
        },
        "nteract": {
          "transient": {
            "deleting": false
          }
        },
        "execution": {
          "iopub.status.busy": "2022-12-10T13:02:33.385Z",
          "iopub.execute_input": "2022-12-10T13:02:33.393Z",
          "iopub.status.idle": "2022-12-10T13:02:33.413Z",
          "shell.execute_reply": "2022-12-10T13:02:33.419Z"
        }
      }
    },
    {
      "cell_type": "code",
      "source": [
        "c = CPU()\n",
        "with open(\"10th.txt\", \"r\") as file:\n",
        "    for i, line in enumerate(file):\n",
        "        #plt.matshow(c.ctr.reshape(6,40))\n",
        "        c.parse(line)\n",
        "        #if c.cycles>=21:\n",
        "        #  break"
      ],
      "outputs": [],
      "execution_count": 43,
      "metadata": {
        "collapsed": true,
        "jupyter": {
          "source_hidden": false,
          "outputs_hidden": false
        },
        "nteract": {
          "transient": {
            "deleting": false
          }
        },
        "execution": {
          "iopub.status.busy": "2022-12-10T13:03:00.471Z",
          "iopub.execute_input": "2022-12-10T13:03:00.478Z",
          "iopub.status.idle": "2022-12-10T13:03:00.496Z",
          "shell.execute_reply": "2022-12-10T13:03:00.504Z"
        }
      }
    },
    {
      "cell_type": "code",
      "source": [
        "plt.matshow(c.ctr)"
      ],
      "outputs": [
        {
          "output_type": "execute_result",
          "execution_count": 44,
          "data": {
            "text/plain": "<matplotlib.image.AxesImage at 0x12b3a4f40>"
          },
          "metadata": {}
        },
        {
          "output_type": "display_data",
          "data": {
            "text/plain": "<Figure size 1152x172.8 with 1 Axes>",
            "image/png": "[encoded data removed]"
          },
          "metadata": {
            "needs_background": "light"
          }
        }
      ],
      "execution_count": 44,
      "metadata": {
        "collapsed": true,
        "jupyter": {
          "source_hidden": false,
          "outputs_hidden": false
        },
        "nteract": {
          "transient": {
            "deleting": false
          }
        },
        "execution": {
          "iopub.status.busy": "2022-12-10T13:03:03.722Z",
          "iopub.execute_input": "2022-12-10T13:03:03.729Z",
          "iopub.status.idle": "2022-12-10T13:03:03.805Z",
          "shell.execute_reply": "2022-12-10T13:03:03.825Z"
        }
      }
    },
    {
      "cell_type": "code",
      "source": [],
      "outputs": [],
      "execution_count": null,
      "metadata": {
        "collapsed": true,
        "jupyter": {
          "source_hidden": false,
          "outputs_hidden": false
        },
        "nteract": {
          "transient": {
            "deleting": false
          }
        }
      }
    },
    {
      "cell_type": "code",
      "source": [],
      "outputs": [],
      "execution_count": null,
      "metadata": {
        "collapsed": true,
        "jupyter": {
          "source_hidden": false,
          "outputs_hidden": false
        },
        "nteract": {
          "transient": {
            "deleting": false
          }
        }
      }
    },
    {
      "cell_type": "code",
      "source": [],
      "outputs": [],
      "execution_count": null,
      "metadata": {
        "collapsed": true,
        "jupyter": {
          "source_hidden": false,
          "outputs_hidden": false
        },
        "nteract": {
          "transient": {
            "deleting": false
          }
        }
      }
    },
    {
      "cell_type": "code",
      "source": [],
      "outputs": [
        {
          "output_type": "execute_result",
          "execution_count": 51,
          "data": {
            "text/plain": "96"
          },
          "metadata": {}
        }
      ],
      "execution_count": 51,
      "metadata": {
        "collapsed": true,
        "jupyter": {
          "source_hidden": false,
          "outputs_hidden": false
        },
        "nteract": {
          "transient": {
            "deleting": false
          }
        },
        "execution": {
          "iopub.status.busy": "2022-12-09T11:55:59.573Z",
          "iopub.execute_input": "2022-12-09T11:55:59.578Z",
          "iopub.status.idle": "2022-12-09T11:55:59.589Z",
          "shell.execute_reply": "2022-12-09T11:55:59.593Z"
        }
      }
    },
    {
      "cell_type": "code",
      "source": [],
      "outputs": [],
      "execution_count": null,
      "metadata": {
        "collapsed": true,
        "jupyter": {
          "source_hidden": false,
          "outputs_hidden": false
        },
        "nteract": {
          "transient": {
            "deleting": false
          }
        }
      }
    }
  ],
  "metadata": {
    "kernel_info": {
      "name": "sawenv"
    },
    "language_info": {
      "name": "python",
      "version": "3.10.3",
      "mimetype": "text/x-python",
      "codemirror_mode": {
        "name": "ipython",
        "version": 3
      },
      "pygments_lexer": "ipython3",
      "nbconvert_exporter": "python",
      "file_extension": ".py"
    },
    "kernelspec": {
      "argv": [
        "/Users/lisa/Documents/virtual_envs/sawenv/bin/python3",
        "-m",
        "ipykernel_launcher",
        "-f",
        "{connection_file}"
      ],
      "display_name": "sawenv",
      "language": "python",
      "metadata": {
        "debugger": true
      },
      "name": "sawenv"
    },
    "nteract": {
      "version": "0.28.0"
    }
  },
  "nbformat": 4,
  "nbformat_minor": 0
}