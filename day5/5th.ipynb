{
  "cells": [
    {
      "cell_type": "markdown",
      "source": [
        "# solution 1"
      ],
      "metadata": {
        "nteract": {
          "transient": {
            "deleting": false
          }
        }
      }
    },
    {
      "cell_type": "code",
      "source": [
        "def parse_line(line):\n",
        "  l = []\n",
        "  chunksize = len(line) / 4\n",
        "  chunks = list(range(0,len(line)+1,4))\n",
        "  for i in range(len(chunks)-1):\n",
        "    chunk = line[chunks[i]: chunks[i+1]]\n",
        "    chunk = chunk.strip()\n",
        "    if chunk == \"\":\n",
        "      l.append(None)\n",
        "    else:\n",
        "      l.append(chunk[1])\n",
        "  return l"
      ],
      "outputs": [],
      "execution_count": 1,
      "metadata": {
        "collapsed": true,
        "jupyter": {
          "source_hidden": false,
          "outputs_hidden": false
        },
        "nteract": {
          "transient": {
            "deleting": false
          }
        },
        "execution": {
          "iopub.status.busy": "2022-12-05T09:01:50.364Z",
          "iopub.execute_input": "2022-12-05T09:01:50.367Z",
          "iopub.status.idle": "2022-12-05T09:01:50.369Z",
          "shell.execute_reply": "2022-12-05T09:01:50.353Z"
        }
      }
    },
    {
      "cell_type": "code",
      "source": [
        "def add_stack_dict(stack_dict, new_line):\n",
        "  for i, el in enumerate(new_line):\n",
        "    if el is not None:\n",
        "      if i+1 in stack_dict:\n",
        "        stack_dict[i+1].append(el)\n",
        "      else:\n",
        "        stack_dict[i+1] = [el]\n",
        "  return stack_dict\n",
        "  "
      ],
      "outputs": [],
      "execution_count": 2,
      "metadata": {
        "collapsed": true,
        "jupyter": {
          "source_hidden": false,
          "outputs_hidden": false
        },
        "nteract": {
          "transient": {
            "deleting": false
          }
        },
        "execution": {
          "iopub.status.busy": "2022-12-05T09:01:50.374Z",
          "iopub.execute_input": "2022-12-05T09:01:50.376Z",
          "iopub.status.idle": "2022-12-05T09:01:50.379Z",
          "shell.execute_reply": "2022-12-05T09:01:50.356Z"
        }
      }
    },
    {
      "cell_type": "code",
      "source": [
        "def parse_stacks(file):\n",
        "    part=1\n",
        "    for i, line in enumerate(file):\n",
        "      if part == 1:\n",
        "        nr_stacks = int(len(line)/4)\n",
        "        #line = line.strip()\n",
        "        if line[0:3] == \" 1 \":\n",
        "          part = 2\n",
        "        else:\n",
        "          add_stack_dict(stack_dict, parse_line(line))\n",
        "        #print(line)\n",
        "      if part == 2:\n",
        "        pass\n",
        "    return(stack_dict)"
      ],
      "outputs": [],
      "execution_count": 3,
      "metadata": {
        "collapsed": true,
        "jupyter": {
          "source_hidden": false,
          "outputs_hidden": false
        },
        "nteract": {
          "transient": {
            "deleting": false
          }
        },
        "execution": {
          "iopub.status.busy": "2022-12-05T09:01:50.711Z",
          "iopub.execute_input": "2022-12-05T09:01:50.714Z",
          "iopub.status.idle": "2022-12-05T09:01:50.719Z",
          "shell.execute_reply": "2022-12-05T09:01:50.724Z"
        }
      }
    },
    {
      "cell_type": "code",
      "source": [
        "stack_dict = {}\n",
        "with open(\"5th.txt\", \"r\") as file:\n",
        "    stack_dict = parse_stacks(file)\n",
        "print(stack_dict)"
      ],
      "outputs": [
        {
          "output_type": "stream",
          "name": "stdout",
          "text": [
            "{7: ['R', 'T', 'J', 'F', 'Z', 'P', 'G', 'L'], 8: ['J', 'T', 'P', 'F', 'C', 'H', 'L', 'N'], 9: ['W', 'C', 'T', 'H', 'Q', 'Z', 'V', 'G'], 4: ['R', 'P', 'M', 'S', 'Q', 'T', 'L'], 5: ['N', 'G', 'V', 'Z', 'J', 'H', 'P'], 1: ['R', 'Q', 'G', 'P', 'C', 'F'], 3: ['C', 'M', 'P', 'H', 'B'], 2: ['P', 'C', 'T', 'W'], 6: ['J', 'P', 'D']}\n"
          ]
        }
      ],
      "execution_count": 4,
      "metadata": {
        "collapsed": true,
        "jupyter": {
          "source_hidden": false,
          "outputs_hidden": false
        },
        "nteract": {
          "transient": {
            "deleting": false
          }
        },
        "execution": {
          "iopub.status.busy": "2022-12-05T09:01:51.093Z",
          "iopub.execute_input": "2022-12-05T09:01:51.096Z",
          "iopub.status.idle": "2022-12-05T09:01:51.105Z",
          "shell.execute_reply": "2022-12-05T09:01:51.111Z"
        }
      }
    },
    {
      "cell_type": "code",
      "source": [
        "#print(stack_dict)\n",
        "with open(\"5th.txt\", \"r\") as file:\n",
        "    part=1\n",
        "    for i, line in enumerate(file):\n",
        "      if part == 1:\n",
        "        if line == \"\\n\":\n",
        "          part = 2\n",
        "        else:\n",
        "          continue\n",
        "      elif part == 2:\n",
        "        line = line.strip()\n",
        "        line_ls = line.split(\" \")\n",
        "        \n",
        "        n = int(line_ls[1])\n",
        "        fromm = int(line_ls[3])\n",
        "        to = int(line_ls[5])\n",
        "        #print(n, fromm, to)\n",
        "        for i in range(n):\n",
        "          el = stack_dict[fromm].pop(0)\n",
        "          stack_dict[to].insert(0, el)\n",
        "        #print(n, fromm, to, el)\n",
        "        #print(stack_dict)"
      ],
      "outputs": [
        {
          "output_type": "stream",
          "name": "stdout",
          "text": [
            "2 2 8\n",
            "2 1 6\n",
            "8 7 1\n",
            "7 5 4\n",
            "1 6 4\n",
            "1 6 3\n",
            "6 3 5\n",
            "9 8 1\n",
            "3 6 7\n",
            "14 4 1\n",
            "6 1 7\n",
            "16 1 9\n",
            "6 1 4\n",
            "1 8 6\n",
            "4 1 5\n",
            "11 9 7\n",
            "2 1 8\n",
            "1 6 7\n",
            "1 8 7\n",
            "1 8 3\n",
            "7 4 3\n",
            "14 7 6\n",
            "8 6 9\n",
            "19 9 2\n",
            "1 1 2\n",
            "2 9 7\n",
            "9 7 8\n",
            "2 2 8\n",
            "16 2 9\n",
            "4 8 2\n",
            "1 7 9\n",
            "3 9 6\n",
            "3 3 6\n",
            "11 9 2\n",
            "7 5 3\n",
            "2 5 9\n",
            "6 6 4\n",
            "1 6 4\n",
            "4 6 8\n",
            "5 9 1\n",
            "4 1 7\n",
            "3 2 6\n",
            "3 4 1\n",
            "1 4 1\n",
            "2 1 3\n",
            "4 3 7\n",
            "1 5 2\n",
            "3 1 6\n",
            "15 2 5\n",
            "3 6 3\n",
            "13 3 8\n",
            "2 4 2\n",
            "9 5 4\n",
            "2 2 5\n",
            "5 7 5\n",
            "10 8 6\n",
            "1 2 5\n",
            "10 4 6\n",
            "4 8 6\n",
            "3 7 1\n",
            "3 1 9\n",
            "1 2 1\n",
            "8 5 2\n",
            "3 6 9\n",
            "6 8 5\n",
            "6 9 2\n",
            "1 1 9\n",
            "10 2 1\n",
            "4 8 5\n",
            "10 5 9\n",
            "11 9 7\n",
            "5 7 9\n",
            "1 9 2\n",
            "3 2 9\n",
            "2 2 8\n",
            "4 9 5\n",
            "4 1 9\n",
            "5 5 2\n",
            "5 1 4\n",
            "21 6 9\n",
            "3 2 9\n",
            "2 8 1\n",
            "25 9 6\n",
            "4 5 7\n",
            "1 4 6\n",
            "6 6 4\n",
            "3 4 6\n",
            "7 7 3\n",
            "4 9 1\n",
            "3 7 8\n",
            "2 9 8\n",
            "2 2 8\n",
            "4 1 3\n",
            "9 6 2\n",
            "13 6 4\n",
            "13 4 5\n",
            "1 5 8\n",
            "2 2 3\n",
            "6 5 3\n",
            "19 3 6\n",
            "1 4 9\n",
            "2 8 1\n",
            "5 2 3\n",
            "5 1 9\n",
            "7 5 4\n",
            "1 8 3\n",
            "1 2 6\n",
            "8 6 3\n",
            "1 9 8\n",
            "11 4 2\n",
            "1 4 6\n",
            "1 2 8\n",
            "5 3 4\n",
            "4 9 6\n",
            "1 6 8\n",
            "9 3 1\n",
            "7 2 9\n",
            "1 2 6\n",
            "3 1 8\n",
            "2 2 3\n",
            "3 9 7\n",
            "3 4 7\n",
            "2 4 3\n",
            "2 3 5\n",
            "8 6 4\n",
            "6 8 6\n",
            "2 9 4\n",
            "5 8 6\n",
            "3 7 5\n",
            "1 5 8\n",
            "1 8 2\n",
            "1 5 1\n",
            "11 4 9\n",
            "2 6 3\n",
            "2 2 4\n",
            "6 1 2\n",
            "6 2 1\n",
            "3 7 3\n",
            "2 4 7\n",
            "4 6 5\n",
            "7 3 7\n",
            "5 9 6\n",
            "22 6 8\n",
            "2 6 5\n",
            "2 8 4\n",
            "14 8 7\n",
            "11 7 4\n",
            "3 8 1\n",
            "9 7 8\n",
            "10 1 4\n",
            "1 7 4\n",
            "4 8 7\n",
            "6 4 9\n",
            "7 4 1\n",
            "3 4 8\n",
            "1 5 8\n",
            "8 5 3\n",
            "4 3 9\n",
            "7 8 9\n",
            "3 8 3\n",
            "2 8 2\n",
            "7 9 1\n",
            "2 2 8\n",
            "8 9 1\n",
            "8 1 7\n",
            "7 1 5\n",
            "7 7 1\n",
            "11 9 8\n",
            "9 8 5\n",
            "2 8 5\n",
            "3 1 8\n",
            "2 3 7\n",
            "6 4 1\n",
            "6 1 6\n",
            "5 7 1\n",
            "2 4 6\n",
            "1 3 5\n",
            "4 7 4\n",
            "2 8 7\n",
            "10 5 6\n",
            "9 6 1\n",
            "8 1 6\n",
            "1 7 2\n",
            "9 6 4\n",
            "2 4 3\n",
            "3 8 1\n",
            "1 2 4\n",
            "4 4 1\n",
            "7 4 3\n",
            "3 3 2\n",
            "1 7 6\n",
            "9 6 7\n",
            "6 7 4\n",
            "2 7 2\n",
            "6 4 7\n",
            "2 2 9\n",
            "1 2 4\n",
            "1 7 4\n",
            "4 7 6\n",
            "4 5 4\n",
            "1 2 5\n",
            "1 7 5\n",
            "1 2 6\n",
            "6 4 3\n",
            "9 3 9\n",
            "4 6 2\n",
            "7 3 8\n",
            "22 1 7\n",
            "1 1 7\n",
            "2 8 3\n",
            "4 5 6\n",
            "2 3 2\n",
            "6 2 8\n",
            "3 8 6\n",
            "1 4 8\n",
            "1 1 8\n",
            "8 6 7\n",
            "7 8 9\n",
            "22 7 4\n",
            "3 5 6\n",
            "1 8 1\n",
            "2 8 2\n",
            "3 6 4\n",
            "1 1 3\n",
            "15 9 1\n",
            "5 1 5\n",
            "3 7 6\n",
            "5 5 6\n",
            "4 4 3\n",
            "6 6 9\n",
            "7 7 6\n",
            "5 6 7\n",
            "4 1 9\n",
            "3 7 4\n",
            "2 9 7\n",
            "5 3 5\n",
            "3 6 3\n",
            "5 4 6\n",
            "10 9 5\n",
            "1 2 9\n",
            "1 3 5\n",
            "1 2 9\n",
            "3 1 6\n",
            "2 9 2\n",
            "7 6 5\n",
            "15 4 9\n",
            "2 4 5\n",
            "1 3 4\n",
            "9 9 1\n",
            "1 9 2\n",
            "2 9 4\n",
            "11 5 4\n",
            "1 9 3\n",
            "1 6 8\n",
            "4 7 8\n",
            "4 8 9\n",
            "15 4 7\n",
            "1 6 7\n",
            "1 3 7\n",
            "6 9 6\n",
            "1 3 7\n",
            "1 2 1\n",
            "1 9 5\n",
            "3 6 1\n",
            "11 1 4\n",
            "6 5 1\n",
            "2 2 5\n",
            "1 5 7\n",
            "2 6 1\n",
            "7 5 7\n",
            "3 5 6\n",
            "4 6 1\n",
            "11 4 3\n",
            "1 8 5\n",
            "23 7 6\n",
            "18 6 9\n",
            "1 5 9\n",
            "1 4 2\n",
            "3 3 7\n",
            "3 3 8\n",
            "17 1 8\n",
            "5 6 5\n",
            "2 7 1\n",
            "20 8 2\n",
            "4 7 2\n",
            "3 9 5\n",
            "7 9 7\n",
            "6 9 2\n",
            "1 1 8\n",
            "3 9 4\n",
            "7 5 2\n",
            "6 7 1\n",
            "1 1 8\n",
            "3 2 6\n",
            "1 7 6\n",
            "2 8 9\n",
            "35 2 4\n",
            "3 3 2\n",
            "1 5 7\n",
            "2 3 9\n",
            "3 1 6\n",
            "2 2 1\n",
            "32 4 7\n",
            "3 4 8\n",
            "3 9 5\n",
            "1 1 2\n",
            "21 7 5\n",
            "2 2 1\n",
            "3 1 2\n",
            "15 5 1\n",
            "3 6 7\n",
            "3 4 6\n",
            "3 8 5\n",
            "1 9 3\n",
            "8 7 2\n",
            "6 5 2\n",
            "9 1 6\n",
            "4 7 1\n",
            "2 5 4\n",
            "2 4 3\n",
            "3 5 4\n",
            "17 2 7\n",
            "3 3 5\n",
            "2 4 8\n",
            "1 4 3\n",
            "5 7 9\n",
            "1 3 6\n",
            "4 1 7\n",
            "4 6 7\n",
            "2 5 2\n",
            "1 1 3\n",
            "10 6 4\n",
            "1 3 7\n",
            "20 7 8\n",
            "8 4 8\n",
            "1 2 8\n",
            "4 9 1\n",
            "3 7 4\n",
            "2 4 9\n",
            "2 6 3\n",
            "1 2 8\n",
            "1 7 6\n",
            "1 9 5\n",
            "3 5 9\n",
            "4 9 2\n",
            "1 4 5\n",
            "1 5 3\n",
            "3 2 4\n",
            "1 9 7\n",
            "1 2 1\n",
            "1 7 1\n",
            "11 1 2\n",
            "3 1 7\n",
            "25 8 5\n",
            "1 6 3\n",
            "1 6 2\n",
            "7 8 2\n",
            "9 2 8\n",
            "2 4 7\n",
            "2 5 7\n",
            "2 5 2\n",
            "5 5 1\n",
            "7 5 1\n",
            "2 4 9\n",
            "3 5 6\n",
            "1 1 8\n",
            "1 5 6\n",
            "1 4 7\n",
            "1 9 2\n",
            "3 5 2\n",
            "2 6 9\n",
            "3 9 8\n",
            "1 5 4\n",
            "3 3 9\n",
            "10 1 5\n",
            "4 2 8\n",
            "2 6 1\n",
            "3 9 7\n",
            "1 1 9\n",
            "1 4 3\n",
            "1 9 2\n",
            "9 8 2\n",
            "2 3 7\n",
            "2 7 6\n",
            "3 5 6\n",
            "4 8 6\n",
            "4 8 3\n",
            "4 3 2\n",
            "4 6 8\n",
            "1 7 9\n",
            "2 1 8\n",
            "2 8 3\n",
            "1 9 2\n",
            "13 2 4\n",
            "6 5 7\n",
            "2 5 7\n",
            "10 2 4\n",
            "11 7 8\n",
            "1 6 4\n",
            "4 6 7\n",
            "24 4 9\n",
            "11 7 4\n",
            "1 3 8\n",
            "1 3 5\n",
            "4 4 2\n",
            "5 4 2\n",
            "9 2 5\n",
            "4 9 5\n",
            "1 5 1\n",
            "2 5 7\n",
            "2 2 5\n",
            "1 1 7\n",
            "2 2 3\n",
            "18 9 6\n",
            "9 8 1\n",
            "2 9 5\n",
            "5 1 8\n",
            "2 8 7\n",
            "4 8 4\n",
            "5 8 7\n",
            "10 5 1\n",
            "10 7 4\n",
            "4 5 8\n",
            "14 1 9\n",
            "6 9 8\n",
            "1 5 1\n",
            "12 6 9\n",
            "4 6 8\n",
            "11 8 5\n",
            "1 6 1\n",
            "19 9 7\n",
            "2 3 5\n",
            "13 7 5\n",
            "3 7 1\n",
            "4 8 9\n",
            "2 7 6\n",
            "7 4 8\n",
            "5 8 1\n",
            "1 1 3\n",
            "1 7 2\n",
            "6 1 6\n",
            "1 2 5\n",
            "1 8 1\n",
            "1 8 2\n",
            "2 4 8\n",
            "5 6 1\n",
            "2 4 7\n",
            "2 9 6\n",
            "1 6 5\n",
            "4 6 2\n",
            "1 9 5\n",
            "2 4 5\n",
            "4 2 4\n",
            "2 8 3\n",
            "3 3 2\n",
            "4 1 2\n",
            "2 4 7\n",
            "4 2 3\n",
            "4 1 2\n",
            "13 5 1\n",
            "1 6 2\n",
            "1 1 8\n",
            "15 5 2\n",
            "4 3 1\n",
            "5 4 3\n",
            "1 3 6\n",
            "1 8 7\n",
            "1 9 8\n",
            "1 7 8\n",
            "3 3 2\n",
            "1 8 2\n",
            "1 3 7\n",
            "13 1 4\n",
            "3 5 3\n",
            "1 1 2\n",
            "1 8 5\n",
            "5 7 2\n",
            "1 6 5\n",
            "2 3 4\n",
            "10 2 5\n",
            "1 9 5\n",
            "3 1 8\n",
            "3 8 3\n",
            "11 4 5\n",
            "12 2 8\n",
            "4 4 7\n",
            "10 8 5\n",
            "2 8 1\n",
            "1 7 3\n",
            "1 7 9\n",
            "5 3 7\n",
            "1 9 4\n",
            "7 7 6\n",
            "13 5 8\n",
            "6 6 7\n",
            "5 7 4\n",
            "1 6 4\n",
            "2 4 9\n",
            "1 7 9\n",
            "3 4 3\n",
            "1 3 6\n",
            "4 5 7\n"
          ]
        }
      ],
      "execution_count": 5,
      "metadata": {
        "collapsed": true,
        "jupyter": {
          "source_hidden": false,
          "outputs_hidden": false
        },
        "nteract": {
          "transient": {
            "deleting": false
          }
        },
        "execution": {
          "iopub.status.busy": "2022-12-05T09:01:52.115Z",
          "iopub.execute_input": "2022-12-05T09:01:52.122Z",
          "iopub.status.idle": "2022-12-05T09:01:52.135Z",
          "shell.execute_reply": "2022-12-05T09:01:52.138Z"
        }
      }
    },
    {
      "cell_type": "code",
      "source": [
        "final = \"\"\n",
        "for i in range(1, max(stack_dict)+1):\n",
        "  final = final +stack_dict[i][0]\n",
        "print(final)"
      ],
      "outputs": [
        {
          "output_type": "stream",
          "name": "stdout",
          "text": [
            "DHBJQJCCW\n"
          ]
        }
      ],
      "execution_count": 6,
      "metadata": {
        "collapsed": true,
        "jupyter": {
          "source_hidden": false,
          "outputs_hidden": false
        },
        "nteract": {
          "transient": {
            "deleting": false
          }
        },
        "execution": {
          "iopub.status.busy": "2022-12-05T09:01:56.857Z",
          "iopub.execute_input": "2022-12-05T09:01:56.862Z",
          "iopub.status.idle": "2022-12-05T09:01:56.877Z",
          "shell.execute_reply": "2022-12-05T09:01:56.882Z"
        }
      }
    },
    {
      "cell_type": "markdown",
      "source": [
        "# solution 2"
      ],
      "metadata": {
        "nteract": {
          "transient": {
            "deleting": false
          }
        }
      }
    },
    {
      "cell_type": "code",
      "source": [
        "stack_dict = {}\n",
        "with open(\"5th.txt\", \"r\") as file:\n",
        "    stack_dict = parse_stacks(file)\n",
        "print(stack_dict)"
      ],
      "outputs": [
        {
          "output_type": "stream",
          "name": "stdout",
          "text": [
            "{7: ['R', 'T', 'J', 'F', 'Z', 'P', 'G', 'L'], 8: ['J', 'T', 'P', 'F', 'C', 'H', 'L', 'N'], 9: ['W', 'C', 'T', 'H', 'Q', 'Z', 'V', 'G'], 4: ['R', 'P', 'M', 'S', 'Q', 'T', 'L'], 5: ['N', 'G', 'V', 'Z', 'J', 'H', 'P'], 1: ['R', 'Q', 'G', 'P', 'C', 'F'], 3: ['C', 'M', 'P', 'H', 'B'], 2: ['P', 'C', 'T', 'W'], 6: ['J', 'P', 'D']}\n"
          ]
        }
      ],
      "execution_count": 30,
      "metadata": {
        "collapsed": true,
        "jupyter": {
          "source_hidden": false,
          "outputs_hidden": false
        },
        "nteract": {
          "transient": {
            "deleting": false
          }
        },
        "execution": {
          "iopub.status.busy": "2022-12-05T09:07:35.599Z",
          "iopub.execute_input": "2022-12-05T09:07:35.604Z",
          "iopub.status.idle": "2022-12-05T09:07:35.617Z",
          "shell.execute_reply": "2022-12-05T09:07:35.622Z"
        }
      }
    },
    {
      "cell_type": "code",
      "source": [
        "#print(stack_dict)\n",
        "with open(\"5th.txt\", \"r\") as file:\n",
        "    part=1\n",
        "    for i, line in enumerate(file):\n",
        "      if part == 1:\n",
        "        if line == \"\\n\":\n",
        "          part = 2\n",
        "        else:\n",
        "          continue\n",
        "      elif part == 2:\n",
        "        line = line.strip()\n",
        "        line_ls = line.split(\" \")\n",
        "        \n",
        "        n = int(line_ls[1])\n",
        "        fromm = int(line_ls[3])\n",
        "        to = int(line_ls[5])\n",
        "        #print(n, fromm, to)\n",
        "        for i in list(range(n))[::-1]:\n",
        "          el = stack_dict[fromm].pop(i)\n",
        "          stack_dict[to].insert(0, el)\n",
        "        #print(n, fromm, to, el)\n",
        "        #print(stack_dict)"
      ],
      "outputs": [],
      "execution_count": 31,
      "metadata": {
        "collapsed": true,
        "jupyter": {
          "source_hidden": false,
          "outputs_hidden": false
        },
        "nteract": {
          "transient": {
            "deleting": false
          }
        },
        "execution": {
          "iopub.status.busy": "2022-12-05T09:07:35.980Z",
          "iopub.execute_input": "2022-12-05T09:07:35.983Z",
          "iopub.status.idle": "2022-12-05T09:07:35.989Z",
          "shell.execute_reply": "2022-12-05T09:07:35.992Z"
        }
      }
    },
    {
      "cell_type": "code",
      "source": [
        "final = \"\"\n",
        "for i in range(1, max(stack_dict)+1):\n",
        "  final = final +stack_dict[i][0]\n",
        "print(final)"
      ],
      "outputs": [
        {
          "output_type": "stream",
          "name": "stdout",
          "text": [
            "WJVRLSJJT\n"
          ]
        }
      ],
      "execution_count": 32,
      "metadata": {
        "collapsed": true,
        "jupyter": {
          "source_hidden": false,
          "outputs_hidden": false
        },
        "nteract": {
          "transient": {
            "deleting": false
          }
        },
        "execution": {
          "iopub.status.busy": "2022-12-05T09:07:37.732Z",
          "iopub.execute_input": "2022-12-05T09:07:37.737Z",
          "iopub.status.idle": "2022-12-05T09:07:37.751Z",
          "shell.execute_reply": "2022-12-05T09:07:37.757Z"
        }
      }
    },
    {
      "cell_type": "code",
      "source": [],
      "outputs": [],
      "execution_count": null,
      "metadata": {
        "collapsed": true,
        "jupyter": {
          "source_hidden": false,
          "outputs_hidden": false
        },
        "nteract": {
          "transient": {
            "deleting": false
          }
        }
      }
    },
    {
      "cell_type": "code",
      "source": [],
      "outputs": [],
      "execution_count": null,
      "metadata": {
        "collapsed": true,
        "jupyter": {
          "source_hidden": false,
          "outputs_hidden": false
        },
        "nteract": {
          "transient": {
            "deleting": false
          }
        }
      }
    }
  ],
  "metadata": {
    "kernel_info": {
      "name": "sawenv"
    },
    "language_info": {
      "name": "python",
      "version": "3.10.3",
      "mimetype": "text/x-python",
      "codemirror_mode": {
        "name": "ipython",
        "version": 3
      },
      "pygments_lexer": "ipython3",
      "nbconvert_exporter": "python",
      "file_extension": ".py"
    },
    "kernelspec": {
      "argv": [
        "/Users/lisa/Documents/virtual_envs/sawenv/bin/python3",
        "-m",
        "ipykernel_launcher",
        "-f",
        "{connection_file}"
      ],
      "display_name": "sawenv",
      "language": "python",
      "metadata": {
        "debugger": true
      },
      "name": "sawenv"
    },
    "nteract": {
      "version": "0.28.0"
    }
  },
  "nbformat": 4,
  "nbformat_minor": 0
}