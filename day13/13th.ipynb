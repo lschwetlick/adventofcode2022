{
  "cells": [
    {
      "cell_type": "code",
      "source": [
        "import string\n",
        "alphabet = list(string.ascii_lowercase)\n",
        "import numpy as np\n",
        "from matplotlib import pyplot as plt\n",
        "import matplotlib.animation as animation"
      ],
      "outputs": [],
      "execution_count": 1,
      "metadata": {
        "collapsed": true,
        "jupyter": {
          "source_hidden": false,
          "outputs_hidden": false
        },
        "nteract": {
          "transient": {
            "deleting": false
          }
        },
        "execution": {
          "iopub.status.busy": "2022-12-13T12:33:30.692Z",
          "iopub.execute_input": "2022-12-13T12:33:30.698Z",
          "iopub.status.idle": "2022-12-13T12:33:31.236Z",
          "shell.execute_reply": "2022-12-13T12:33:31.230Z"
        }
      }
    },
    {
      "cell_type": "code",
      "source": [
        "signals = []\n",
        "sigpair = []\n",
        "with open(\"13th_t.txt\", \"r\") as file:\n",
        "    for i, line in enumerate(file):\n",
        "      if line != \"\\n\":\n",
        "        lii = eval(line.strip())\n",
        "        sigpair.append(lii)\n",
        "      else:\n",
        "        signals.append(sigpair)\n",
        "        sigpair = []\n",
        "    signals.append(sigpair)\n",
        "#signals"
      ],
      "outputs": [],
      "execution_count": 32,
      "metadata": {
        "collapsed": true,
        "jupyter": {
          "source_hidden": false,
          "outputs_hidden": false
        },
        "nteract": {
          "transient": {
            "deleting": false
          }
        },
        "execution": {
          "iopub.status.busy": "2022-12-13T12:43:34.616Z",
          "iopub.execute_input": "2022-12-13T12:43:34.625Z",
          "iopub.status.idle": "2022-12-13T12:43:34.636Z",
          "shell.execute_reply": "2022-12-13T12:43:34.641Z"
        }
      }
    },
    {
      "cell_type": "code",
      "source": [
        "signals[21-1]"
      ],
      "outputs": [
        {
          "output_type": "error",
          "ename": "IndexError",
          "evalue": "list index out of range",
          "traceback": [
            "\u001b[0;31m---------------------------------------------------------------------------\u001b[0m",
            "\u001b[0;31mIndexError\u001b[0m                                Traceback (most recent call last)",
            "Input \u001b[0;32mIn [33]\u001b[0m, in \u001b[0;36m<cell line: 1>\u001b[0;34m()\u001b[0m\n\u001b[0;32m----> 1\u001b[0m \u001b[43msignals\u001b[49m\u001b[43m[\u001b[49m\u001b[38;5;241;43m21\u001b[39;49m\u001b[38;5;241;43m-\u001b[39;49m\u001b[38;5;241;43m1\u001b[39;49m\u001b[43m]\u001b[49m\n",
            "\u001b[0;31mIndexError\u001b[0m: list index out of range"
          ]
        }
      ],
      "execution_count": 33,
      "metadata": {
        "collapsed": true,
        "jupyter": {
          "source_hidden": false,
          "outputs_hidden": false
        },
        "nteract": {
          "transient": {
            "deleting": false
          }
        },
        "execution": {
          "iopub.status.busy": "2022-12-13T12:43:35.217Z",
          "iopub.execute_input": "2022-12-13T12:43:35.226Z",
          "iopub.status.idle": "2022-12-13T12:35:14.770Z",
          "shell.execute_reply": "2022-12-13T12:35:14.775Z"
        }
      }
    },
    {
      "cell_type": "code",
      "source": [
        "def check_all_same(l1, l2, verbose=False):\n",
        "  #print(\"input\", l1, \"input\", l2)\n",
        "  res = None\n",
        "  if l1==[] and l2==[]:\n",
        "    return None\n",
        "  for ix, l in enumerate(l1):\n",
        "    \n",
        "    if ix<len(l2):\n",
        "      \n",
        "      r = l2[ix]\n",
        "      #print(ix, l, r)\n",
        "      if (type(l) == int) and (type(r) == int):\n",
        "        #print(l,r)\n",
        "        if l < r:\n",
        "          return True\n",
        "        if l > r:\n",
        "          if verbose:\n",
        "            print(\"left was bigger\")\n",
        "          return False\n",
        "        if l == r:\n",
        "          pass\n",
        "      elif (type(l) == list) & (type(r) == list):\n",
        "        if verbose:\n",
        "          print(\"found 2 lists\")\n",
        "        order_check = check_all_same(l, r)\n",
        "        if verbose:\n",
        "          print(\"order_check\", order_check)\n",
        "        if order_check is None:\n",
        "          pass\n",
        "        \n",
        "        else:\n",
        "          return order_check\n",
        "      elif (type(l) == list) & (type(r) == int):\n",
        "        if verbose:\n",
        "          print(\"mixed\", l, r)\n",
        "        order_check = check_all_same(l, [r])\n",
        "        if order_check is None:\n",
        "          pass\n",
        "        else:\n",
        "          return order_check\n",
        "      elif (type(l) == int) & (type(r) == list):\n",
        "        if verbose:\n",
        "          print(\"mixed l\", l, r)\n",
        "        order_check = check_all_same([l], r)\n",
        "        if order_check is None:\n",
        "          pass\n",
        "        else:\n",
        "          return order_check\n",
        "\n",
        "        \n",
        "    else:\n",
        "      if verbose:\n",
        "        print(\"right ran out\")\n",
        "      return False\n",
        "  return True"
      ],
      "outputs": [],
      "execution_count": 34,
      "metadata": {
        "collapsed": true,
        "jupyter": {
          "source_hidden": false,
          "outputs_hidden": false
        },
        "nteract": {
          "transient": {
            "deleting": false
          }
        },
        "execution": {
          "iopub.status.busy": "2022-12-13T12:43:36.103Z",
          "iopub.execute_input": "2022-12-13T12:43:36.109Z",
          "iopub.status.idle": "2022-12-13T12:43:36.119Z",
          "shell.execute_reply": "2022-12-13T12:43:36.124Z"
        }
      }
    },
    {
      "cell_type": "code",
      "source": [
        "sigpair = signals[20]\n",
        "check_all_same(sigpair[0],sigpair[1], verbose=True)"
      ],
      "outputs": [
        {
          "output_type": "error",
          "ename": "IndexError",
          "evalue": "list index out of range",
          "traceback": [
            "\u001b[0;31m---------------------------------------------------------------------------\u001b[0m",
            "\u001b[0;31mIndexError\u001b[0m                                Traceback (most recent call last)",
            "Input \u001b[0;32mIn [35]\u001b[0m, in \u001b[0;36m<cell line: 1>\u001b[0;34m()\u001b[0m\n\u001b[0;32m----> 1\u001b[0m sigpair \u001b[38;5;241m=\u001b[39m \u001b[43msignals\u001b[49m\u001b[43m[\u001b[49m\u001b[38;5;241;43m20\u001b[39;49m\u001b[43m]\u001b[49m\n\u001b[1;32m      2\u001b[0m check_all_same(sigpair[\u001b[38;5;241m0\u001b[39m],sigpair[\u001b[38;5;241m1\u001b[39m], verbose\u001b[38;5;241m=\u001b[39m\u001b[38;5;28;01mTrue\u001b[39;00m)\n",
            "\u001b[0;31mIndexError\u001b[0m: list index out of range"
          ]
        }
      ],
      "execution_count": 35,
      "metadata": {
        "collapsed": true,
        "jupyter": {
          "source_hidden": false,
          "outputs_hidden": false
        },
        "nteract": {
          "transient": {
            "deleting": false
          }
        },
        "execution": {
          "iopub.status.busy": "2022-12-13T12:43:48.383Z",
          "iopub.execute_input": "2022-12-13T12:43:48.388Z",
          "iopub.status.idle": "2022-12-13T12:42:16.346Z",
          "shell.execute_reply": "2022-12-13T12:42:16.350Z"
        }
      }
    },
    {
      "cell_type": "code",
      "source": [
        "sumsum = 0\n",
        "for i, sigpair in enumerate(signals):\n",
        "  res = check_all_same(sigpair[0],sigpair[1])\n",
        "  print(i+1, res)\n",
        "  if res:\n",
        "    sumsum += (i+1)\n",
        "print(sumsum)"
      ],
      "outputs": [
        {
          "output_type": "stream",
          "name": "stdout",
          "text": [
            "1 True\n",
            "2 True\n",
            "3 False\n",
            "4 True\n",
            "5 False\n",
            "6 True\n",
            "7 False\n",
            "8 False\n",
            "13\n"
          ]
        }
      ],
      "execution_count": 36,
      "metadata": {
        "collapsed": true,
        "jupyter": {
          "source_hidden": false,
          "outputs_hidden": false
        },
        "nteract": {
          "transient": {
            "deleting": false
          }
        },
        "execution": {
          "iopub.status.busy": "2022-12-13T12:43:48.752Z",
          "iopub.execute_input": "2022-12-13T12:43:48.757Z",
          "iopub.status.idle": "2022-12-13T12:43:48.829Z",
          "shell.execute_reply": "2022-12-13T12:43:48.834Z"
        }
      }
    },
    {
      "cell_type": "code",
      "source": [],
      "outputs": [],
      "execution_count": null,
      "metadata": {
        "collapsed": true,
        "jupyter": {
          "source_hidden": false,
          "outputs_hidden": false
        },
        "nteract": {
          "transient": {
            "deleting": false
          }
        }
      }
    },
    {
      "cell_type": "code",
      "source": [],
      "outputs": [],
      "execution_count": null,
      "metadata": {
        "collapsed": true,
        "jupyter": {
          "source_hidden": false,
          "outputs_hidden": false
        },
        "nteract": {
          "transient": {
            "deleting": false
          }
        }
      }
    },
    {
      "cell_type": "code",
      "source": [],
      "outputs": [],
      "execution_count": null,
      "metadata": {
        "collapsed": true,
        "jupyter": {
          "source_hidden": false,
          "outputs_hidden": false
        },
        "nteract": {
          "transient": {
            "deleting": false
          }
        }
      }
    },
    {
      "cell_type": "code",
      "source": [],
      "outputs": [],
      "execution_count": null,
      "metadata": {
        "collapsed": true,
        "jupyter": {
          "source_hidden": false,
          "outputs_hidden": false
        },
        "nteract": {
          "transient": {
            "deleting": false
          }
        }
      }
    },
    {
      "cell_type": "code",
      "source": [],
      "outputs": [],
      "execution_count": null,
      "metadata": {
        "collapsed": true,
        "jupyter": {
          "source_hidden": false,
          "outputs_hidden": false
        },
        "nteract": {
          "transient": {
            "deleting": false
          }
        }
      }
    }
  ],
  "metadata": {
    "kernel_info": {
      "name": "sawenv"
    },
    "language_info": {
      "name": "python",
      "version": "3.10.3",
      "mimetype": "text/x-python",
      "codemirror_mode": {
        "name": "ipython",
        "version": 3
      },
      "pygments_lexer": "ipython3",
      "nbconvert_exporter": "python",
      "file_extension": ".py"
    },
    "kernelspec": {
      "argv": [
        "/Users/lisa/Documents/virtual_envs/sawenv/bin/python3",
        "-m",
        "ipykernel_launcher",
        "-f",
        "{connection_file}"
      ],
      "display_name": "sawenv",
      "language": "python",
      "metadata": {
        "debugger": true
      },
      "name": "sawenv"
    },
    "nteract": {
      "version": "0.28.0"
    }
  },
  "nbformat": 4,
  "nbformat_minor": 0
}